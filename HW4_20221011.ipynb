{
  "nbformat": 4,
  "nbformat_minor": 0,
  "metadata": {
    "colab": {
      "provenance": [],
      "collapsed_sections": []
    },
    "kernelspec": {
      "name": "python3",
      "display_name": "Python 3"
    },
    "language_info": {
      "name": "python"
    }
  },
  "cells": [
    {
      "cell_type": "markdown",
      "source": [
        "Ch04 Getting started with neural networks: Classification and regression"
      ],
      "metadata": {
        "id": "6M-EsgZBPkdJ"
      }
    },
    {
      "cell_type": "markdown",
      "source": [
        "電影評論二分法\n",
        "Classifying movie reviews: A binary classification example"
      ],
      "metadata": {
        "id": "lnDpbN91Pwh4"
      }
    },
    {
      "cell_type": "code",
      "execution_count": null,
      "metadata": {
        "colab": {
          "base_uri": "https://localhost:8080/"
        },
        "id": "mhjZmvXpPaR9",
        "outputId": "f8b2826c-5f1d-4e82-c659-e75ed853d802"
      },
      "outputs": [
        {
          "output_type": "stream",
          "name": "stdout",
          "text": [
            "Downloading data from https://storage.googleapis.com/tensorflow/tf-keras-datasets/imdb.npz\n",
            "17465344/17464789 [==============================] - 0s 0us/step\n",
            "17473536/17464789 [==============================] - 0s 0us/step\n"
          ]
        }
      ],
      "source": [
        "# import the IMDB dataset\n",
        "# num_words=10000 #只保留訓練數據中出現頻率最高的10000個單詞\n",
        "\n",
        "from tensorflow.keras.datasets import imdb\n",
        "(train_data, train_labels), (test_data, test_labels) = imdb.load_data(\n",
        "    num_words=10000)\n"
      ]
    },
    {
      "cell_type": "code",
      "source": [
        "train_data[0]"
      ],
      "metadata": {
        "colab": {
          "base_uri": "https://localhost:8080/"
        },
        "id": "uJXFg535Py2n",
        "outputId": "3d71136f-c691-410a-f3c1-74e610de2720"
      },
      "execution_count": null,
      "outputs": [
        {
          "output_type": "execute_result",
          "data": {
            "text/plain": [
              "[1,\n",
              " 14,\n",
              " 22,\n",
              " 16,\n",
              " 43,\n",
              " 530,\n",
              " 973,\n",
              " 1622,\n",
              " 1385,\n",
              " 65,\n",
              " 458,\n",
              " 4468,\n",
              " 66,\n",
              " 3941,\n",
              " 4,\n",
              " 173,\n",
              " 36,\n",
              " 256,\n",
              " 5,\n",
              " 25,\n",
              " 100,\n",
              " 43,\n",
              " 838,\n",
              " 112,\n",
              " 50,\n",
              " 670,\n",
              " 2,\n",
              " 9,\n",
              " 35,\n",
              " 480,\n",
              " 284,\n",
              " 5,\n",
              " 150,\n",
              " 4,\n",
              " 172,\n",
              " 112,\n",
              " 167,\n",
              " 2,\n",
              " 336,\n",
              " 385,\n",
              " 39,\n",
              " 4,\n",
              " 172,\n",
              " 4536,\n",
              " 1111,\n",
              " 17,\n",
              " 546,\n",
              " 38,\n",
              " 13,\n",
              " 447,\n",
              " 4,\n",
              " 192,\n",
              " 50,\n",
              " 16,\n",
              " 6,\n",
              " 147,\n",
              " 2025,\n",
              " 19,\n",
              " 14,\n",
              " 22,\n",
              " 4,\n",
              " 1920,\n",
              " 4613,\n",
              " 469,\n",
              " 4,\n",
              " 22,\n",
              " 71,\n",
              " 87,\n",
              " 12,\n",
              " 16,\n",
              " 43,\n",
              " 530,\n",
              " 38,\n",
              " 76,\n",
              " 15,\n",
              " 13,\n",
              " 1247,\n",
              " 4,\n",
              " 22,\n",
              " 17,\n",
              " 515,\n",
              " 17,\n",
              " 12,\n",
              " 16,\n",
              " 626,\n",
              " 18,\n",
              " 2,\n",
              " 5,\n",
              " 62,\n",
              " 386,\n",
              " 12,\n",
              " 8,\n",
              " 316,\n",
              " 8,\n",
              " 106,\n",
              " 5,\n",
              " 4,\n",
              " 2223,\n",
              " 5244,\n",
              " 16,\n",
              " 480,\n",
              " 66,\n",
              " 3785,\n",
              " 33,\n",
              " 4,\n",
              " 130,\n",
              " 12,\n",
              " 16,\n",
              " 38,\n",
              " 619,\n",
              " 5,\n",
              " 25,\n",
              " 124,\n",
              " 51,\n",
              " 36,\n",
              " 135,\n",
              " 48,\n",
              " 25,\n",
              " 1415,\n",
              " 33,\n",
              " 6,\n",
              " 22,\n",
              " 12,\n",
              " 215,\n",
              " 28,\n",
              " 77,\n",
              " 52,\n",
              " 5,\n",
              " 14,\n",
              " 407,\n",
              " 16,\n",
              " 82,\n",
              " 2,\n",
              " 8,\n",
              " 4,\n",
              " 107,\n",
              " 117,\n",
              " 5952,\n",
              " 15,\n",
              " 256,\n",
              " 4,\n",
              " 2,\n",
              " 7,\n",
              " 3766,\n",
              " 5,\n",
              " 723,\n",
              " 36,\n",
              " 71,\n",
              " 43,\n",
              " 530,\n",
              " 476,\n",
              " 26,\n",
              " 400,\n",
              " 317,\n",
              " 46,\n",
              " 7,\n",
              " 4,\n",
              " 2,\n",
              " 1029,\n",
              " 13,\n",
              " 104,\n",
              " 88,\n",
              " 4,\n",
              " 381,\n",
              " 15,\n",
              " 297,\n",
              " 98,\n",
              " 32,\n",
              " 2071,\n",
              " 56,\n",
              " 26,\n",
              " 141,\n",
              " 6,\n",
              " 194,\n",
              " 7486,\n",
              " 18,\n",
              " 4,\n",
              " 226,\n",
              " 22,\n",
              " 21,\n",
              " 134,\n",
              " 476,\n",
              " 26,\n",
              " 480,\n",
              " 5,\n",
              " 144,\n",
              " 30,\n",
              " 5535,\n",
              " 18,\n",
              " 51,\n",
              " 36,\n",
              " 28,\n",
              " 224,\n",
              " 92,\n",
              " 25,\n",
              " 104,\n",
              " 4,\n",
              " 226,\n",
              " 65,\n",
              " 16,\n",
              " 38,\n",
              " 1334,\n",
              " 88,\n",
              " 12,\n",
              " 16,\n",
              " 283,\n",
              " 5,\n",
              " 16,\n",
              " 4472,\n",
              " 113,\n",
              " 103,\n",
              " 32,\n",
              " 15,\n",
              " 16,\n",
              " 5345,\n",
              " 19,\n",
              " 178,\n",
              " 32]"
            ]
          },
          "metadata": {},
          "execution_count": 2
        }
      ]
    },
    {
      "cell_type": "code",
      "source": [
        "train_data.shape"
      ],
      "metadata": {
        "colab": {
          "base_uri": "https://localhost:8080/"
        },
        "id": "oPRozqqURMG2",
        "outputId": "bcca4aab-791a-400f-ac71-c24623a2d033"
      },
      "execution_count": null,
      "outputs": [
        {
          "output_type": "execute_result",
          "data": {
            "text/plain": [
              "(25000,)"
            ]
          },
          "metadata": {},
          "execution_count": 7
        }
      ]
    },
    {
      "cell_type": "code",
      "source": [
        "train_labels[0]"
      ],
      "metadata": {
        "colab": {
          "base_uri": "https://localhost:8080/"
        },
        "id": "hfaijbEXPnAv",
        "outputId": "f37b40df-86bd-4aa4-b9fd-05ba991e33b4"
      },
      "execution_count": null,
      "outputs": [
        {
          "output_type": "execute_result",
          "data": {
            "text/plain": [
              "1"
            ]
          },
          "metadata": {},
          "execution_count": 3
        }
      ]
    },
    {
      "cell_type": "code",
      "source": [
        "train_labels.shape"
      ],
      "metadata": {
        "colab": {
          "base_uri": "https://localhost:8080/"
        },
        "id": "o3GkZ0M1RJoo",
        "outputId": "4dc67061-5d67-4561-856c-5ecc0763b8ce"
      },
      "execution_count": null,
      "outputs": [
        {
          "output_type": "execute_result",
          "data": {
            "text/plain": [
              "(25000,)"
            ]
          },
          "metadata": {},
          "execution_count": 6
        }
      ]
    },
    {
      "cell_type": "code",
      "source": [
        "# 10000 words\n",
        "max([max(sequence) for sequence in train_data])"
      ],
      "metadata": {
        "colab": {
          "base_uri": "https://localhost:8080/"
        },
        "id": "9Tzk2I7JQyvi",
        "outputId": "d5ed984e-0bd1-4b2d-8a80-fc83921af28a"
      },
      "execution_count": null,
      "outputs": [
        {
          "output_type": "execute_result",
          "data": {
            "text/plain": [
              "9999"
            ]
          },
          "metadata": {},
          "execution_count": 9
        }
      ]
    },
    {
      "cell_type": "markdown",
      "source": [
        "Decoding reviews back to text\n",
        "將評論解碼回文本"
      ],
      "metadata": {
        "id": "jlBlisC5S0EL"
      }
    },
    {
      "cell_type": "code",
      "source": [
        "word_index = imdb.get_word_index()\n",
        "reverse_word_index = dict(\n",
        "    [(value, key) for (key, value) in word_index.items()])\n",
        "decoded_review = \" \".join(\n",
        "    [reverse_word_index.get(i - 3, \"?\") for i in train_data[0]])"
      ],
      "metadata": {
        "colab": {
          "base_uri": "https://localhost:8080/"
        },
        "id": "na_tvGH4QyyZ",
        "outputId": "287fe91b-1d78-44c7-982c-9c1d04ff01f7"
      },
      "execution_count": null,
      "outputs": [
        {
          "output_type": "stream",
          "name": "stdout",
          "text": [
            "Downloading data from https://storage.googleapis.com/tensorflow/tf-keras-datasets/imdb_word_index.json\n",
            "1646592/1641221 [==============================] - 0s 0us/step\n",
            "1654784/1641221 [==============================] - 0s 0us/step\n"
          ]
        }
      ]
    },
    {
      "cell_type": "markdown",
      "source": [
        "# Preparing the data"
      ],
      "metadata": {
        "id": "HBQ0BKFDTXoD"
      }
    },
    {
      "cell_type": "markdown",
      "source": [
        "不能直接將整數列表輸入神經網路，他們都有不同的長度，但神經網路希望處理連續批次的數據。你必須把你的列表變成張量。\n",
        "解決方案:\n",
        "1.填充列表，使他們都具有相同的長度(後面章節會介紹)\n",
        "2.multi-hot encoding，將它們轉換成0和1的向量\n",
        "ex:[8,5]，除了索引8和5之外，該向量全為0。"
      ],
      "metadata": {
        "id": "G7wXpNxeTipq"
      }
    },
    {
      "cell_type": "code",
      "source": [
        "# multi-hot encoding\n",
        "#turn text to 0,1\n",
        "import numpy as np\n",
        "def vectorize_sequences(sequences, dimension=10000):\n",
        "    results = np.zeros((len(sequences), dimension))\n",
        "    for i, sequence in enumerate(sequences):\n",
        "        for j in sequence:\n",
        "            results[i, j] = 1.\n",
        "    return results\n",
        "x_train = vectorize_sequences(train_data)\n",
        "x_test = vectorize_sequences(test_data)"
      ],
      "metadata": {
        "id": "oV3MFKx1Qy1h"
      },
      "execution_count": 17,
      "outputs": []
    },
    {
      "cell_type": "code",
      "source": [
        "x_train[0]"
      ],
      "metadata": {
        "id": "g_538EI_Qy4c",
        "colab": {
          "base_uri": "https://localhost:8080/"
        },
        "outputId": "de3abfa8-601c-44a8-fe75-88ffb4b669f0"
      },
      "execution_count": 18,
      "outputs": [
        {
          "output_type": "execute_result",
          "data": {
            "text/plain": [
              "array([0., 1., 1., ..., 0., 0., 0.])"
            ]
          },
          "metadata": {},
          "execution_count": 18
        }
      ]
    },
    {
      "cell_type": "code",
      "source": [
        "y_train = np.asarray(train_labels).astype(\"float32\")\n",
        "y_test = np.asarray(test_labels).astype(\"float32\")"
      ],
      "metadata": {
        "id": "VVQhUMnYQy8B"
      },
      "execution_count": 40,
      "outputs": []
    },
    {
      "cell_type": "code",
      "source": [
        "y_train[0]"
      ],
      "metadata": {
        "colab": {
          "base_uri": "https://localhost:8080/"
        },
        "id": "tH05U0YEcRrM",
        "outputId": "feb189b0-a4d9-41b4-b571-a511d2abc008"
      },
      "execution_count": 41,
      "outputs": [
        {
          "output_type": "execute_result",
          "data": {
            "text/plain": [
              "3.0"
            ]
          },
          "metadata": {},
          "execution_count": 41
        }
      ]
    },
    {
      "cell_type": "markdown",
      "source": [
        "Building your model建立模型"
      ],
      "metadata": {
        "id": "szgj2B2yU3p_"
      }
    },
    {
      "cell_type": "code",
      "source": [
        "#relu : 將負值歸0\n",
        "#sigmoid : 將任意值擠壓到[0,1]區間\n",
        "from tensorflow import keras\n",
        "from tensorflow.keras import layers\n",
        "\n",
        "model = keras.Sequential([\n",
        "    layers.Dense(16, activation=\"relu\"),\n",
        "    layers.Dense(16, activation=\"relu\"),\n",
        "    layers.Dense(1, activation=\"sigmoid\")\n",
        "])"
      ],
      "metadata": {
        "id": "gTPQRGuNQxXp"
      },
      "execution_count": 20,
      "outputs": []
    },
    {
      "cell_type": "markdown",
      "source": [
        "Compiling the model 編譯模型"
      ],
      "metadata": {
        "id": "p4LBhB0pVm2c"
      }
    },
    {
      "cell_type": "code",
      "source": [
        "model.compile(optimizer=\"rmsprop\",\n",
        "        loss=\"binary_crossentropy\",\n",
        "        metrics=[\"accuracy\"])"
      ],
      "metadata": {
        "id": "v2XDnQweQxfo"
      },
      "execution_count": 21,
      "outputs": []
    },
    {
      "cell_type": "markdown",
      "source": [
        "Validating your approach 驗證你的方法"
      ],
      "metadata": {
        "id": "Y4ZAq1BmVzsy"
      }
    },
    {
      "cell_type": "code",
      "source": [
        "#從訓練數據中分離10000筆資料來創建一個驗證集\n",
        "x_val = x_train[:10000]\n",
        "partial_x_train = x_train[10000:]\n",
        "y_val = y_train[:10000]\n",
        "partial_y_train = y_train[10000:]"
      ],
      "metadata": {
        "id": "oXLIjOkMQxip"
      },
      "execution_count": 23,
      "outputs": []
    },
    {
      "cell_type": "markdown",
      "source": [
        "Training your model 訓練模型"
      ],
      "metadata": {
        "id": "zw3IIq-SWHwy"
      }
    },
    {
      "cell_type": "code",
      "source": [
        "history = model.fit(partial_x_train,\n",
        "            partial_y_train,\n",
        "            epochs=20,\n",
        "            batch_size=512,\n",
        "            validation_data=(x_val, y_val))"
      ],
      "metadata": {
        "id": "DoSqkRLtQxl3",
        "colab": {
          "base_uri": "https://localhost:8080/"
        },
        "outputId": "fc3689f8-5ea9-4ecf-91d8-0c93f6047273"
      },
      "execution_count": 24,
      "outputs": [
        {
          "output_type": "stream",
          "name": "stdout",
          "text": [
            "Epoch 1/20\n",
            "30/30 [==============================] - 3s 60ms/step - loss: 0.4959 - accuracy: 0.7904 - val_loss: 0.3841 - val_accuracy: 0.8607\n",
            "Epoch 2/20\n",
            "30/30 [==============================] - 1s 35ms/step - loss: 0.2949 - accuracy: 0.9045 - val_loss: 0.3008 - val_accuracy: 0.8884\n",
            "Epoch 3/20\n",
            "30/30 [==============================] - 2s 53ms/step - loss: 0.2178 - accuracy: 0.9303 - val_loss: 0.2776 - val_accuracy: 0.8912\n",
            "Epoch 4/20\n",
            "30/30 [==============================] - 1s 35ms/step - loss: 0.1729 - accuracy: 0.9454 - val_loss: 0.2747 - val_accuracy: 0.8885\n",
            "Epoch 5/20\n",
            "30/30 [==============================] - 1s 45ms/step - loss: 0.1436 - accuracy: 0.9540 - val_loss: 0.2818 - val_accuracy: 0.8872\n",
            "Epoch 6/20\n",
            "30/30 [==============================] - 1s 41ms/step - loss: 0.1204 - accuracy: 0.9621 - val_loss: 0.3026 - val_accuracy: 0.8853\n",
            "Epoch 7/20\n",
            "30/30 [==============================] - 1s 44ms/step - loss: 0.0981 - accuracy: 0.9713 - val_loss: 0.3070 - val_accuracy: 0.8846\n",
            "Epoch 8/20\n",
            "30/30 [==============================] - 1s 40ms/step - loss: 0.0814 - accuracy: 0.9772 - val_loss: 0.3268 - val_accuracy: 0.8828\n",
            "Epoch 9/20\n",
            "30/30 [==============================] - 1s 35ms/step - loss: 0.0706 - accuracy: 0.9808 - val_loss: 0.3547 - val_accuracy: 0.8761\n",
            "Epoch 10/20\n",
            "30/30 [==============================] - 1s 38ms/step - loss: 0.0556 - accuracy: 0.9867 - val_loss: 0.3886 - val_accuracy: 0.8760\n",
            "Epoch 11/20\n",
            "30/30 [==============================] - 1s 35ms/step - loss: 0.0499 - accuracy: 0.9877 - val_loss: 0.4097 - val_accuracy: 0.8728\n",
            "Epoch 12/20\n",
            "30/30 [==============================] - 1s 36ms/step - loss: 0.0358 - accuracy: 0.9929 - val_loss: 0.4604 - val_accuracy: 0.8660\n",
            "Epoch 13/20\n",
            "30/30 [==============================] - 2s 50ms/step - loss: 0.0316 - accuracy: 0.9936 - val_loss: 0.4565 - val_accuracy: 0.8710\n",
            "Epoch 14/20\n",
            "30/30 [==============================] - 1s 47ms/step - loss: 0.0242 - accuracy: 0.9964 - val_loss: 0.5008 - val_accuracy: 0.8669\n",
            "Epoch 15/20\n",
            "30/30 [==============================] - 1s 40ms/step - loss: 0.0222 - accuracy: 0.9957 - val_loss: 0.5111 - val_accuracy: 0.8695\n",
            "Epoch 16/20\n",
            "30/30 [==============================] - 1s 38ms/step - loss: 0.0169 - accuracy: 0.9978 - val_loss: 0.5433 - val_accuracy: 0.8679\n",
            "Epoch 17/20\n",
            "30/30 [==============================] - 1s 41ms/step - loss: 0.0121 - accuracy: 0.9991 - val_loss: 0.5822 - val_accuracy: 0.8668\n",
            "Epoch 18/20\n",
            "30/30 [==============================] - 1s 37ms/step - loss: 0.0090 - accuracy: 0.9993 - val_loss: 0.6159 - val_accuracy: 0.8670\n",
            "Epoch 19/20\n",
            "30/30 [==============================] - 1s 35ms/step - loss: 0.0102 - accuracy: 0.9981 - val_loss: 0.6520 - val_accuracy: 0.8657\n",
            "Epoch 20/20\n",
            "30/30 [==============================] - 1s 34ms/step - loss: 0.0048 - accuracy: 0.9999 - val_loss: 0.6890 - val_accuracy: 0.8625\n"
          ]
        }
      ]
    },
    {
      "cell_type": "code",
      "source": [
        "#顯示存入的資料\n",
        "history_dict = history.history\n",
        "history_dict.keys()"
      ],
      "metadata": {
        "id": "aietRZamQxpT",
        "colab": {
          "base_uri": "https://localhost:8080/"
        },
        "outputId": "8c9e18f9-d5e4-4140-8324-9e99345b985d"
      },
      "execution_count": 25,
      "outputs": [
        {
          "output_type": "execute_result",
          "data": {
            "text/plain": [
              "dict_keys(['loss', 'accuracy', 'val_loss', 'val_accuracy'])"
            ]
          },
          "metadata": {},
          "execution_count": 25
        }
      ]
    },
    {
      "cell_type": "markdown",
      "source": [
        "Plotting the training and validation loss\n",
        "繪製訓練和驗證損失"
      ],
      "metadata": {
        "id": "LkmSjKvCWpuz"
      }
    },
    {
      "cell_type": "code",
      "source": [
        "import matplotlib.pyplot as plt\n",
        "history_dict = history.history\n",
        "loss_values = history_dict[\"loss\"]\n",
        "val_loss_values = history_dict[\"val_loss\"]\n",
        "epochs = range(1, len(loss_values) + 1)\n",
        "plt.plot(epochs, loss_values, \"bo\", label=\"Training loss\")\n",
        "plt.plot(epochs, val_loss_values, \"b\", label=\"Validation loss\")\n",
        "plt.title(\"Training and validation loss\")\n",
        "plt.xlabel(\"Epochs\")\n",
        "plt.ylabel(\"Loss\")\n",
        "plt.legend()\n",
        "plt.show()"
      ],
      "metadata": {
        "id": "dGndyyQBQxsx",
        "colab": {
          "base_uri": "https://localhost:8080/",
          "height": 295
        },
        "outputId": "ce340ef2-b760-452b-9327-ab1d9edde6eb"
      },
      "execution_count": 26,
      "outputs": [
        {
          "output_type": "display_data",
          "data": {
            "text/plain": [
              "<Figure size 432x288 with 1 Axes>"
            ],
            "image/png": "[encoded data removed]"
          },
          "metadata": {
            "needs_background": "light"
          }
        }
      ]
    },
    {
      "cell_type": "markdown",
      "source": [
        "# 在大約第4個epoch之後，對於訓練數據進行了過度優化，產生\"過度擬合\"。\n",
        "#可以在4個epoch之後停止訓練"
      ],
      "metadata": {
        "id": "FcSgyjYbXOF8"
      }
    },
    {
      "cell_type": "markdown",
      "source": [
        "Plotting the training and validation accuracy\n",
        "繪製訓練和驗證正確率"
      ],
      "metadata": {
        "id": "MEDxUeuCW1Fq"
      }
    },
    {
      "cell_type": "code",
      "source": [
        "plt.clf()\n",
        "acc = history_dict[\"accuracy\"]\n",
        "val_acc = history_dict[\"val_accuracy\"]\n",
        "plt.plot(epochs, acc, \"bo\", label=\"Training acc\")\n",
        "plt.plot(epochs, val_acc, \"b\", label=\"Validation acc\")\n",
        "plt.title(\"Training and validation accuracy\")\n",
        "plt.xlabel(\"Epochs\")\n",
        "plt.ylabel(\"Accuracy\")\n",
        "plt.legend()\n",
        "plt.show()"
      ],
      "metadata": {
        "id": "eGdoDQXXQxwP",
        "colab": {
          "base_uri": "https://localhost:8080/",
          "height": 295
        },
        "outputId": "8c5bd297-0b6f-4f07-e17a-bb1bf5aa9af7"
      },
      "execution_count": 27,
      "outputs": [
        {
          "output_type": "display_data",
          "data": {
            "text/plain": [
              "<Figure size 432x288 with 1 Axes>"
            ],
            "image/png": "[encoded data removed]"
          },
          "metadata": {
            "needs_background": "light"
          }
        }
      ]
    },
    {
      "cell_type": "markdown",
      "source": [
        "# 重新訓練模型"
      ],
      "metadata": {
        "id": "MUARNvPqXtRE"
      }
    },
    {
      "cell_type": "code",
      "source": [
        "model = keras.Sequential([\n",
        "    layers.Dense(16, activation=\"relu\"),\n",
        "    layers.Dense(16, activation=\"relu\"),\n",
        "    layers.Dense(1, activation=\"sigmoid\")\n",
        "])\n",
        "model.compile(optimizer=\"rmsprop\",\n",
        "              loss=\"binary_crossentropy\",\n",
        "              metrics=[\"accuracy\"])\n",
        "model.fit(x_train, y_train, epochs=4, batch_size=512)\n",
        "results = model.evaluate(x_test, y_test)"
      ],
      "metadata": {
        "id": "FXWZkzxAQxzQ",
        "colab": {
          "base_uri": "https://localhost:8080/"
        },
        "outputId": "674b432a-6f68-4036-8b53-8cfae64f3a0e"
      },
      "execution_count": 28,
      "outputs": [
        {
          "output_type": "stream",
          "name": "stdout",
          "text": [
            "Epoch 1/4\n",
            "49/49 [==============================] - 2s 34ms/step - loss: 0.5042 - accuracy: 0.7976\n",
            "Epoch 2/4\n",
            "49/49 [==============================] - 2s 34ms/step - loss: 0.2935 - accuracy: 0.9061\n",
            "Epoch 3/4\n",
            "49/49 [==============================] - 2s 31ms/step - loss: 0.2191 - accuracy: 0.9252\n",
            "Epoch 4/4\n",
            "49/49 [==============================] - 2s 39ms/step - loss: 0.1794 - accuracy: 0.9381\n",
            "782/782 [==============================] - 2s 2ms/step - loss: 0.3014 - accuracy: 0.8804\n"
          ]
        }
      ]
    },
    {
      "cell_type": "code",
      "source": [
        "results\n",
        "#loss, accuracy"
      ],
      "metadata": {
        "id": "QnI-SDZaQx2z",
        "colab": {
          "base_uri": "https://localhost:8080/"
        },
        "outputId": "cb839a70-0522-429f-dbd0-89929067d217"
      },
      "execution_count": 29,
      "outputs": [
        {
          "output_type": "execute_result",
          "data": {
            "text/plain": [
              "[0.3014112114906311, 0.8804399967193604]"
            ]
          },
          "metadata": {},
          "execution_count": 29
        }
      ]
    },
    {
      "cell_type": "markdown",
      "source": [
        "# 使用經過訓練的模型對新數據進行預測"
      ],
      "metadata": {
        "id": "Cihrb3VCYRVO"
      }
    },
    {
      "cell_type": "code",
      "source": [
        "model.predict(x_test)"
      ],
      "metadata": {
        "id": "MV6-NoZjQoWj",
        "colab": {
          "base_uri": "https://localhost:8080/"
        },
        "outputId": "d5f9b7b1-5b8f-4598-bd85-75c78286d344"
      },
      "execution_count": 30,
      "outputs": [
        {
          "output_type": "execute_result",
          "data": {
            "text/plain": [
              "array([[0.14873534],\n",
              "       [0.9941025 ],\n",
              "       [0.6128934 ],\n",
              "       ...,\n",
              "       [0.06944829],\n",
              "       [0.06218076],\n",
              "       [0.45913276]], dtype=float32)"
            ]
          },
          "metadata": {},
          "execution_count": 30
        }
      ]
    },
    {
      "cell_type": "markdown",
      "source": [
        "# 進一步實驗改良"
      ],
      "metadata": {
        "id": "AnfV8kocYmij"
      }
    },
    {
      "cell_type": "markdown",
      "source": [
        "1.嘗試使用1~3層隱藏層\n",
        "看看會如何影響驗證和測試\n",
        "2.嘗試使用更多或更少的神經元:32、64...。\n",
        "3.嘗試使用MSE損失函數\n",
        "4.嘗試使用tanh active function"
      ],
      "metadata": {
        "id": "xTBw-5MHYppx"
      }
    },
    {
      "cell_type": "markdown",
      "source": [
        "# 總結"
      ],
      "metadata": {
        "id": "gE5NDTr3ZbS7"
      }
    },
    {
      "cell_type": "markdown",
      "source": [
        "1.通常需要對原始數據進行預處理，以便能將其作為張量輸出到神經網路\n",
        "單詞序列可以編碼為二進制向量，但也有其他編碼方式。\n",
        "2.帶有relu的隱藏層可以解決廣泛的問題，可能會經常使用到。\n",
        "3.在二元分類問題，模型應該以具有一個單元和sigmoid激活函數的Dense層結束\n",
        "模型的輸出應該是0~1之間的標量，編碼概率。\n",
        "4.在二元分類問題上使用sigmoid輸出，應該使用的損失函數是binary_crossentropy。"
      ],
      "metadata": {
        "id": "C-gAfpzZaanb"
      }
    },
    {
      "cell_type": "markdown",
      "source": [
        "# 新聞專線分類:多種分類示例"
      ],
      "metadata": {
        "id": "4J1O0TJAaxEN"
      }
    },
    {
      "cell_type": "code",
      "source": [
        "#Loading the Reuters dataset使用路透社資料集\n",
        "from tensorflow.keras.datasets import reuters\n",
        "(train_data, train_labels), (test_data, test_labels) = reuters.load_data(\n",
        "    num_words=10000)\n"
      ],
      "metadata": {
        "colab": {
          "base_uri": "https://localhost:8080/"
        },
        "id": "KLmjX1uIYmCD",
        "outputId": "adf1851e-85e8-4f47-b6e1-c66472b28000"
      },
      "execution_count": 31,
      "outputs": [
        {
          "output_type": "stream",
          "name": "stdout",
          "text": [
            "Downloading data from https://storage.googleapis.com/tensorflow/tf-keras-datasets/reuters.npz\n",
            "2113536/2110848 [==============================] - 0s 0us/step\n",
            "2121728/2110848 [==============================] - 0s 0us/step\n"
          ]
        }
      ]
    },
    {
      "cell_type": "code",
      "source": [
        "len(train_data)"
      ],
      "metadata": {
        "colab": {
          "base_uri": "https://localhost:8080/"
        },
        "id": "VZoFrU8AYYJs",
        "outputId": "d01da9b7-faeb-4cd8-a0a4-f5bc0b687a85"
      },
      "execution_count": 32,
      "outputs": [
        {
          "output_type": "execute_result",
          "data": {
            "text/plain": [
              "8982"
            ]
          },
          "metadata": {},
          "execution_count": 32
        }
      ]
    },
    {
      "cell_type": "code",
      "source": [
        "train_data.shape"
      ],
      "metadata": {
        "colab": {
          "base_uri": "https://localhost:8080/"
        },
        "id": "9Y0sNfXxbGeM",
        "outputId": "bccc4204-a8f8-415e-9bed-086d5ed2dfce"
      },
      "execution_count": 35,
      "outputs": [
        {
          "output_type": "execute_result",
          "data": {
            "text/plain": [
              "(8982,)"
            ]
          },
          "metadata": {},
          "execution_count": 35
        }
      ]
    },
    {
      "cell_type": "code",
      "source": [
        "len(test_data)"
      ],
      "metadata": {
        "colab": {
          "base_uri": "https://localhost:8080/"
        },
        "id": "I-tvzXsbbCzF",
        "outputId": "9a076624-d6c5-494f-8b0d-e09ff365ac2d"
      },
      "execution_count": 33,
      "outputs": [
        {
          "output_type": "execute_result",
          "data": {
            "text/plain": [
              "2246"
            ]
          },
          "metadata": {},
          "execution_count": 33
        }
      ]
    },
    {
      "cell_type": "code",
      "source": [
        "train_data[10]"
      ],
      "metadata": {
        "colab": {
          "base_uri": "https://localhost:8080/"
        },
        "id": "mQDT9e6PbD1S",
        "outputId": "3ed57c79-f766-46d1-cd78-eed78b8cda77"
      },
      "execution_count": 34,
      "outputs": [
        {
          "output_type": "execute_result",
          "data": {
            "text/plain": [
              "[1,\n",
              " 245,\n",
              " 273,\n",
              " 207,\n",
              " 156,\n",
              " 53,\n",
              " 74,\n",
              " 160,\n",
              " 26,\n",
              " 14,\n",
              " 46,\n",
              " 296,\n",
              " 26,\n",
              " 39,\n",
              " 74,\n",
              " 2979,\n",
              " 3554,\n",
              " 14,\n",
              " 46,\n",
              " 4689,\n",
              " 4329,\n",
              " 86,\n",
              " 61,\n",
              " 3499,\n",
              " 4795,\n",
              " 14,\n",
              " 61,\n",
              " 451,\n",
              " 4329,\n",
              " 17,\n",
              " 12]"
            ]
          },
          "metadata": {},
          "execution_count": 34
        }
      ]
    },
    {
      "cell_type": "markdown",
      "source": [
        "Decoding newswires back to text\n",
        "將新聞專線解碼回文本"
      ],
      "metadata": {
        "id": "MPfJqqslbMDm"
      }
    },
    {
      "cell_type": "code",
      "source": [
        "word_index = reuters.get_word_index()\n",
        "reverse_word_index = dict([(value, key) for (key, value) in word_index.items()])\n",
        "decoded_newswire = \" \".join([reverse_word_index.get(i - 3, \"?\") for i in\n",
        "    train_data[0]])"
      ],
      "metadata": {
        "colab": {
          "base_uri": "https://localhost:8080/"
        },
        "id": "TZBAvWgdbE15",
        "outputId": "56c7c268-a364-4be3-b54b-f74aadb5dbb9"
      },
      "execution_count": 36,
      "outputs": [
        {
          "output_type": "stream",
          "name": "stdout",
          "text": [
            "Downloading data from https://storage.googleapis.com/tensorflow/tf-keras-datasets/reuters_word_index.json\n",
            "557056/550378 [==============================] - 0s 0us/step\n",
            "565248/550378 [==============================] - 0s 0us/step\n"
          ]
        }
      ]
    },
    {
      "cell_type": "code",
      "source": [
        "train_labels[10]"
      ],
      "metadata": {
        "colab": {
          "base_uri": "https://localhost:8080/"
        },
        "id": "5WJXZsAqbVOZ",
        "outputId": "3db63fec-9cbf-47fb-cea2-332dc6a86205"
      },
      "execution_count": 37,
      "outputs": [
        {
          "output_type": "execute_result",
          "data": {
            "text/plain": [
              "3"
            ]
          },
          "metadata": {},
          "execution_count": 37
        }
      ]
    },
    {
      "cell_type": "markdown",
      "source": [
        "# Preparing the data 準備資料"
      ],
      "metadata": {
        "id": "-wadgRZybcKs"
      }
    },
    {
      "cell_type": "code",
      "source": [
        "# multi-hot encoding\n",
        "x_train = vectorize_sequences(train_data)\n",
        "x_test = vectorize_sequences(test_data)"
      ],
      "metadata": {
        "id": "qZpheewtbWUl"
      },
      "execution_count": 49,
      "outputs": []
    },
    {
      "cell_type": "code",
      "source": [
        "x_train[0]"
      ],
      "metadata": {
        "colab": {
          "base_uri": "https://localhost:8080/"
        },
        "id": "55Sc9yNldL0N",
        "outputId": "f3b3a642-f00a-4b22-dda1-66857c7c4330"
      },
      "execution_count": 54,
      "outputs": [
        {
          "output_type": "execute_result",
          "data": {
            "text/plain": [
              "array([0., 1., 1., ..., 0., 0., 0.])"
            ]
          },
          "metadata": {},
          "execution_count": 54
        }
      ]
    },
    {
      "cell_type": "code",
      "source": [
        "#one-hot encoding\n",
        "#method 1\n",
        "def to_one_hot(labels, dimension=46):\n",
        "    results = np.zeros((len(labels), dimension))\n",
        "    for i, label in enumerate(labels):\n",
        "        results[i, label] = 1.\n",
        "    return results\n",
        "y_train = to_one_hot(train_labels)\n",
        "y_test = to_one_hot(test_labels)"
      ],
      "metadata": {
        "id": "9eo18L-ubqwi"
      },
      "execution_count": 50,
      "outputs": []
    },
    {
      "cell_type": "code",
      "source": [
        "y_train[0]"
      ],
      "metadata": {
        "colab": {
          "base_uri": "https://localhost:8080/"
        },
        "id": "uBmW3kLncuy1",
        "outputId": "4f8f5e6e-8374-42f4-8ac9-f2632715f996"
      },
      "execution_count": 51,
      "outputs": [
        {
          "output_type": "execute_result",
          "data": {
            "text/plain": [
              "array([0., 0., 0., 1., 0., 0., 0., 0., 0., 0., 0., 0., 0., 0., 0., 0., 0.,\n",
              "       0., 0., 0., 0., 0., 0., 0., 0., 0., 0., 0., 0., 0., 0., 0., 0., 0.,\n",
              "       0., 0., 0., 0., 0., 0., 0., 0., 0., 0., 0., 0.])"
            ]
          },
          "metadata": {},
          "execution_count": 51
        }
      ]
    },
    {
      "cell_type": "code",
      "source": [
        "#one-hot encoding\n",
        "#method 2\n",
        "from tensorflow.keras.utils import to_categorical\n",
        "y_train = to_categorical(train_labels)\n",
        "y_test = to_categorical(test_labels)"
      ],
      "metadata": {
        "id": "mPdXD1ENco1n"
      },
      "execution_count": 52,
      "outputs": []
    },
    {
      "cell_type": "code",
      "source": [
        "y_train[0]"
      ],
      "metadata": {
        "colab": {
          "base_uri": "https://localhost:8080/"
        },
        "id": "nixgCTPwcruK",
        "outputId": "e392b1b8-1431-49fe-a703-da7feb94ffbe"
      },
      "execution_count": 53,
      "outputs": [
        {
          "output_type": "execute_result",
          "data": {
            "text/plain": [
              "array([0., 0., 0., 1., 0., 0., 0., 0., 0., 0., 0., 0., 0., 0., 0., 0., 0.,\n",
              "       0., 0., 0., 0., 0., 0., 0., 0., 0., 0., 0., 0., 0., 0., 0., 0., 0.,\n",
              "       0., 0., 0., 0., 0., 0., 0., 0., 0., 0., 0., 0.], dtype=float32)"
            ]
          },
          "metadata": {},
          "execution_count": 53
        }
      ]
    },
    {
      "cell_type": "markdown",
      "source": [
        "# Building your model 建立模型"
      ],
      "metadata": {
        "id": "SqymrglfdySM"
      }
    },
    {
      "cell_type": "code",
      "source": [
        "model = keras.Sequential([\n",
        "    layers.Dense(64, activation=\"relu\"),\n",
        "    layers.Dense(64, activation=\"relu\"),\n",
        "    layers.Dense(46, activation=\"softmax\")\n",
        "])"
      ],
      "metadata": {
        "id": "wwYglOShdirN"
      },
      "execution_count": 55,
      "outputs": []
    },
    {
      "cell_type": "markdown",
      "source": [
        "# Compiling the model 編譯模型"
      ],
      "metadata": {
        "id": "Dpqubo5Ld4_8"
      }
    },
    {
      "cell_type": "code",
      "source": [
        "#這邊因為是多種分類所以使用loss=\"categorical_crossentropy\"\n",
        "model.compile(optimizer=\"rmsprop\",\n",
        "      loss=\"categorical_crossentropy\",\n",
        "      metrics=[\"accuracy\"])"
      ],
      "metadata": {
        "id": "WEbBXj2pdi0c"
      },
      "execution_count": 56,
      "outputs": []
    },
    {
      "cell_type": "markdown",
      "source": [
        "# Validating your approach 驗證方法"
      ],
      "metadata": {
        "id": "1NW-20SNeLcV"
      }
    },
    {
      "cell_type": "markdown",
      "source": [
        "## 建立驗證集"
      ],
      "metadata": {
        "id": "jAaWXUCNePxv"
      }
    },
    {
      "cell_type": "code",
      "source": [
        "x_val = x_train[:1000]\n",
        "partial_x_train = x_train[1000:]\n",
        "y_val = y_train[:1000]\n",
        "partial_y_train = y_train[1000:]"
      ],
      "metadata": {
        "id": "clDoJKIaeGAj"
      },
      "execution_count": 57,
      "outputs": []
    },
    {
      "cell_type": "markdown",
      "source": [
        "## 測試模型"
      ],
      "metadata": {
        "id": "ddRsLK4UeUQt"
      }
    },
    {
      "cell_type": "code",
      "source": [
        "history = model.fit(partial_x_train,\n",
        "                    partial_y_train,\n",
        "                    epochs=20,\n",
        "                    batch_size=512,\n",
        "                    validation_data=(x_val, y_val))"
      ],
      "metadata": {
        "colab": {
          "base_uri": "https://localhost:8080/"
        },
        "id": "Zu5pW2vAeSvd",
        "outputId": "bb2aa949-3b34-4af7-8617-90b714139df9"
      },
      "execution_count": 58,
      "outputs": [
        {
          "output_type": "stream",
          "name": "stdout",
          "text": [
            "Epoch 1/20\n",
            "16/16 [==============================] - 3s 109ms/step - loss: 2.5545 - accuracy: 0.4932 - val_loss: 1.7114 - val_accuracy: 0.6430\n",
            "Epoch 2/20\n",
            "16/16 [==============================] - 1s 47ms/step - loss: 1.4015 - accuracy: 0.7175 - val_loss: 1.2822 - val_accuracy: 0.7260\n",
            "Epoch 3/20\n",
            "16/16 [==============================] - 1s 51ms/step - loss: 1.0228 - accuracy: 0.7932 - val_loss: 1.1197 - val_accuracy: 0.7770\n",
            "Epoch 4/20\n",
            "16/16 [==============================] - 1s 58ms/step - loss: 0.7955 - accuracy: 0.8436 - val_loss: 1.0154 - val_accuracy: 0.7940\n",
            "Epoch 5/20\n",
            "16/16 [==============================] - 1s 49ms/step - loss: 0.6294 - accuracy: 0.8732 - val_loss: 0.9642 - val_accuracy: 0.7940\n",
            "Epoch 6/20\n",
            "16/16 [==============================] - 1s 48ms/step - loss: 0.4982 - accuracy: 0.8986 - val_loss: 0.9314 - val_accuracy: 0.8060\n",
            "Epoch 7/20\n",
            "16/16 [==============================] - 1s 53ms/step - loss: 0.4023 - accuracy: 0.9176 - val_loss: 0.9009 - val_accuracy: 0.8160\n",
            "Epoch 8/20\n",
            "16/16 [==============================] - 1s 69ms/step - loss: 0.3264 - accuracy: 0.9301 - val_loss: 0.9564 - val_accuracy: 0.7940\n",
            "Epoch 9/20\n",
            "16/16 [==============================] - 1s 59ms/step - loss: 0.2747 - accuracy: 0.9389 - val_loss: 0.9188 - val_accuracy: 0.8020\n",
            "Epoch 10/20\n",
            "16/16 [==============================] - 1s 60ms/step - loss: 0.2343 - accuracy: 0.9451 - val_loss: 0.9569 - val_accuracy: 0.8170\n",
            "Epoch 11/20\n",
            "16/16 [==============================] - 1s 55ms/step - loss: 0.2011 - accuracy: 0.9515 - val_loss: 0.9244 - val_accuracy: 0.8240\n",
            "Epoch 12/20\n",
            "16/16 [==============================] - 1s 48ms/step - loss: 0.1795 - accuracy: 0.9534 - val_loss: 0.9508 - val_accuracy: 0.8230\n",
            "Epoch 13/20\n",
            "16/16 [==============================] - 1s 48ms/step - loss: 0.1600 - accuracy: 0.9562 - val_loss: 0.9582 - val_accuracy: 0.8250\n",
            "Epoch 14/20\n",
            "16/16 [==============================] - 1s 54ms/step - loss: 0.1483 - accuracy: 0.9554 - val_loss: 0.9685 - val_accuracy: 0.8270\n",
            "Epoch 15/20\n",
            "16/16 [==============================] - 1s 59ms/step - loss: 0.1369 - accuracy: 0.9554 - val_loss: 0.9927 - val_accuracy: 0.8110\n",
            "Epoch 16/20\n",
            "16/16 [==============================] - 1s 53ms/step - loss: 0.1310 - accuracy: 0.9563 - val_loss: 1.0121 - val_accuracy: 0.8220\n",
            "Epoch 17/20\n",
            "16/16 [==============================] - 1s 48ms/step - loss: 0.1237 - accuracy: 0.9573 - val_loss: 1.0425 - val_accuracy: 0.8150\n",
            "Epoch 18/20\n",
            "16/16 [==============================] - 1s 47ms/step - loss: 0.1207 - accuracy: 0.9559 - val_loss: 1.0791 - val_accuracy: 0.8060\n",
            "Epoch 19/20\n",
            "16/16 [==============================] - 1s 46ms/step - loss: 0.1164 - accuracy: 0.9589 - val_loss: 1.1198 - val_accuracy: 0.7970\n",
            "Epoch 20/20\n",
            "16/16 [==============================] - 1s 53ms/step - loss: 0.1125 - accuracy: 0.9589 - val_loss: 1.0648 - val_accuracy: 0.8110\n"
          ]
        }
      ]
    },
    {
      "cell_type": "markdown",
      "source": [
        "## 繪製訓練和驗證損失"
      ],
      "metadata": {
        "id": "1mG-zUuoeb7s"
      }
    },
    {
      "cell_type": "code",
      "source": [
        "loss = history.history[\"loss\"]\n",
        "val_loss = history.history[\"val_loss\"]\n",
        "epochs = range(1, len(loss) + 1)\n",
        "plt.plot(epochs, loss, \"bo\", label=\"Training loss\")\n",
        "plt.plot(epochs, val_loss, \"b\", label=\"Validation loss\")\n",
        "plt.title(\"Training and validation loss\")\n",
        "plt.xlabel(\"Epochs\")\n",
        "plt.ylabel(\"Loss\")\n",
        "plt.legend()\n",
        "plt.show()"
      ],
      "metadata": {
        "colab": {
          "base_uri": "https://localhost:8080/",
          "height": 295
        },
        "id": "cAbYoLmveXYh",
        "outputId": "9139d66d-3e78-4b62-fd74-526db7f33176"
      },
      "execution_count": 59,
      "outputs": [
        {
          "output_type": "display_data",
          "data": {
            "text/plain": [
              "<Figure size 432x288 with 1 Axes>"
            ],
            "image/png": "[encoded data removed]"
          },
          "metadata": {
            "needs_background": "light"
          }
        }
      ]
    },
    {
      "cell_type": "markdown",
      "source": [
        "## 繪製訓練和驗證正確率"
      ],
      "metadata": {
        "id": "82EgPrguekPd"
      }
    },
    {
      "cell_type": "code",
      "source": [
        "plt.clf()\n",
        "acc = history.history[\"accuracy\"]\n",
        "val_acc = history.history[\"val_accuracy\"]\n",
        "plt.plot(epochs, acc, \"bo\", label=\"Training accuracy\")\n",
        "plt.plot(epochs, val_acc, \"b\", label=\"Validation accuracy\")\n",
        "plt.title(\"Training and validation accuracy\")\n",
        "plt.xlabel(\"Epochs\")\n",
        "plt.ylabel(\"Accuracy\")\n",
        "plt.legend()\n",
        "plt.show()"
      ],
      "metadata": {
        "colab": {
          "base_uri": "https://localhost:8080/",
          "height": 295
        },
        "id": "QA13yGrdefUn",
        "outputId": "9c8b4543-46ef-41d0-f1fe-2caa59adef94"
      },
      "execution_count": 60,
      "outputs": [
        {
          "output_type": "display_data",
          "data": {
            "text/plain": [
              "<Figure size 432x288 with 1 Axes>"
            ],
            "image/png": "[encoded data removed]"
          },
          "metadata": {
            "needs_background": "light"
          }
        }
      ]
    },
    {
      "cell_type": "markdown",
      "source": [
        "# 大約在7個epoch之後開始過度擬合"
      ],
      "metadata": {
        "id": "qTPURJO9fAoA"
      }
    },
    {
      "cell_type": "markdown",
      "source": [
        "# 重新訓練"
      ],
      "metadata": {
        "id": "l9qOISCOfF2A"
      }
    },
    {
      "cell_type": "code",
      "source": [
        "model = keras.Sequential([\n",
        "  layers.Dense(64, activation=\"relu\"),\n",
        "  layers.Dense(64, activation=\"relu\"),\n",
        "  layers.Dense(46, activation=\"softmax\")\n",
        "])\n",
        "model.compile(optimizer=\"rmsprop\",\n",
        "              loss=\"categorical_crossentropy\",\n",
        "              metrics=[\"accuracy\"])\n",
        "model.fit(x_train,\n",
        "          y_train,\n",
        "          epochs=7,\n",
        "          batch_size=512)\n",
        "results = model.evaluate(x_test, y_test)"
      ],
      "metadata": {
        "colab": {
          "base_uri": "https://localhost:8080/"
        },
        "id": "BO3-KjMEenL7",
        "outputId": "a755e2a8-29c5-42ca-f8bd-d1bd7c496850"
      },
      "execution_count": 61,
      "outputs": [
        {
          "output_type": "stream",
          "name": "stdout",
          "text": [
            "Epoch 1/7\n",
            "18/18 [==============================] - 2s 76ms/step - loss: 2.4510 - accuracy: 0.5511\n",
            "Epoch 2/7\n",
            "18/18 [==============================] - 1s 55ms/step - loss: 1.3376 - accuracy: 0.7132\n",
            "Epoch 3/7\n",
            "18/18 [==============================] - 1s 55ms/step - loss: 0.9979 - accuracy: 0.7829\n",
            "Epoch 4/7\n",
            "18/18 [==============================] - 1s 69ms/step - loss: 0.7829 - accuracy: 0.8327\n",
            "Epoch 5/7\n",
            "18/18 [==============================] - 1s 49ms/step - loss: 0.6152 - accuracy: 0.8703\n",
            "Epoch 6/7\n",
            "18/18 [==============================] - 1s 69ms/step - loss: 0.4880 - accuracy: 0.9014\n",
            "Epoch 7/7\n",
            "18/18 [==============================] - 1s 46ms/step - loss: 0.3886 - accuracy: 0.9189\n",
            "71/71 [==============================] - 0s 4ms/step - loss: 0.9474 - accuracy: 0.7921\n"
          ]
        }
      ]
    },
    {
      "cell_type": "code",
      "source": [
        "results"
      ],
      "metadata": {
        "colab": {
          "base_uri": "https://localhost:8080/"
        },
        "id": "JFQSCq0HfJyI",
        "outputId": "ec9fc241-b096-4a92-c8d3-a9c7ca387620"
      },
      "execution_count": 62,
      "outputs": [
        {
          "output_type": "execute_result",
          "data": {
            "text/plain": [
              "[0.9473869204521179, 0.7920747995376587]"
            ]
          },
          "metadata": {},
          "execution_count": 62
        }
      ]
    },
    {
      "cell_type": "markdown",
      "source": [
        "# 大約達到了80%的準確率。"
      ],
      "metadata": {
        "id": "bp96JTEyfmzz"
      }
    },
    {
      "cell_type": "markdown",
      "source": [
        "對於二元分類問題，純隨機分類器的準確率達到50%\n",
        "再下面，我們快速建立一個來檢查我們的模型"
      ],
      "metadata": {
        "id": "572HirZAftjd"
      }
    },
    {
      "cell_type": "code",
      "source": [
        "#純隨機分類器\n",
        "import copy\n",
        "test_labels_copy = copy.copy(test_labels)\n",
        "np.random.shuffle(test_labels_copy)\n",
        "hits_array = np.array(test_labels) == np.array(test_labels_copy)\n",
        "hits_array.mean()"
      ],
      "metadata": {
        "colab": {
          "base_uri": "https://localhost:8080/"
        },
        "id": "T9PrFqODfLbs",
        "outputId": "88e823a9-4930-445f-d40a-3a821e167a17"
      },
      "execution_count": 64,
      "outputs": [
        {
          "output_type": "execute_result",
          "data": {
            "text/plain": [
              "0.19412288512911843"
            ]
          },
          "metadata": {},
          "execution_count": 64
        }
      ]
    },
    {
      "cell_type": "markdown",
      "source": [
        "隨機分類器的分類準確率約為19%，因此模型的結果看起來相當不錯"
      ],
      "metadata": {
        "id": "YWlrLmxXgCsR"
      }
    },
    {
      "cell_type": "markdown",
      "source": [
        "# # 對新數據進行預測"
      ],
      "metadata": {
        "id": "Jo4UjB8zgQim"
      }
    },
    {
      "cell_type": "code",
      "source": [
        "predictions = model.predict(x_test)"
      ],
      "metadata": {
        "id": "cKKSxy-OfL7W"
      },
      "execution_count": 65,
      "outputs": []
    },
    {
      "cell_type": "code",
      "source": [
        "# 共46類\n",
        "predictions[0].shape"
      ],
      "metadata": {
        "colab": {
          "base_uri": "https://localhost:8080/"
        },
        "id": "pkGQMvAUgTfk",
        "outputId": "3570012c-5749-456b-b15f-14cae6dfb72d"
      },
      "execution_count": 66,
      "outputs": [
        {
          "output_type": "execute_result",
          "data": {
            "text/plain": [
              "(46,)"
            ]
          },
          "metadata": {},
          "execution_count": 66
        }
      ]
    },
    {
      "cell_type": "code",
      "source": [
        "#係數總合約為1\n",
        "np.sum(predictions[0])"
      ],
      "metadata": {
        "colab": {
          "base_uri": "https://localhost:8080/"
        },
        "id": "W17BpXdAgdiI",
        "outputId": "3afe0957-5fc2-47ce-8006-294877320dc9"
      },
      "execution_count": 67,
      "outputs": [
        {
          "output_type": "execute_result",
          "data": {
            "text/plain": [
              "1.0000001"
            ]
          },
          "metadata": {},
          "execution_count": 67
        }
      ]
    },
    {
      "cell_type": "code",
      "source": [
        "#概率最高的類別\n",
        "np.argmax(predictions[0])"
      ],
      "metadata": {
        "colab": {
          "base_uri": "https://localhost:8080/"
        },
        "id": "KCCEYy1Dge6a",
        "outputId": "15273ca9-f45d-4482-f911-1bb2e1b5e2c8"
      },
      "execution_count": 69,
      "outputs": [
        {
          "output_type": "execute_result",
          "data": {
            "text/plain": [
              "4"
            ]
          },
          "metadata": {},
          "execution_count": 69
        }
      ]
    },
    {
      "cell_type": "markdown",
      "source": [
        "# Extra: 處理標籤和損失的不同方法"
      ],
      "metadata": {
        "id": "QXUXc27xg2LJ"
      }
    },
    {
      "cell_type": "markdown",
      "source": [
        "前面提到，另一種編碼方法是將他們轉換為整數張量"
      ],
      "metadata": {
        "id": "kWwtRzRsg9_n"
      }
    },
    {
      "cell_type": "code",
      "source": [
        "y_train = np.array(train_labels)\n",
        "y_test = np.array(test_labels)"
      ],
      "metadata": {
        "id": "RZwbiRuMggY2"
      },
      "execution_count": 70,
      "outputs": []
    },
    {
      "cell_type": "markdown",
      "source": [
        "這種方法唯一改變的是損失函數\n",
        "loss='sparse_categorical_crossentropy'"
      ],
      "metadata": {
        "id": "YXm2qebAhLU2"
      }
    },
    {
      "cell_type": "code",
      "source": [
        "model.compile(optimizer=\"rmsprop\",\n",
        "              loss=\"sparse_categorical_crossentropy\",\n",
        "              metrics=[\"accuracy\"])"
      ],
      "metadata": {
        "id": "zXyQlJhQhEoS"
      },
      "execution_count": 71,
      "outputs": []
    },
    {
      "cell_type": "markdown",
      "source": [
        "# 擁有足夠大的中間層的重要性"
      ],
      "metadata": {
        "id": "DhtPR4RLhiAV"
      }
    },
    {
      "cell_type": "markdown",
      "source": [
        "因為最終輸出是46維，所以應該避免使用少於46個神經元的中間層。\n",
        "下面讓我們看看加入一層小於46維的中間層造成的影響。"
      ],
      "metadata": {
        "id": "KpzRGQpghk04"
      }
    },
    {
      "cell_type": "code",
      "source": [
        "model = keras.Sequential([\n",
        "    layers.Dense(64, activation=\"relu\"),\n",
        "    layers.Dense(4, activation=\"relu\"),\n",
        "    layers.Dense(46, activation=\"softmax\")\n",
        "])\n",
        "model.compile(optimizer=\"rmsprop\",\n",
        "              loss=\"categorical_crossentropy\",\n",
        "              metrics=[\"accuracy\"])\n",
        "history = model.fit(partial_x_train,\n",
        "          partial_y_train,\n",
        "          epochs=20,\n",
        "          batch_size=128,\n",
        "          validation_data=(x_val, y_val))"
      ],
      "metadata": {
        "colab": {
          "base_uri": "https://localhost:8080/"
        },
        "id": "8-pLHQqIhKj8",
        "outputId": "5ef66f6c-fac9-4414-adcd-a0c3f634a75b"
      },
      "execution_count": 72,
      "outputs": [
        {
          "output_type": "stream",
          "name": "stdout",
          "text": [
            "Epoch 1/20\n",
            "63/63 [==============================] - 2s 20ms/step - loss: 2.9803 - accuracy: 0.2210 - val_loss: 2.1373 - val_accuracy: 0.5930\n",
            "Epoch 2/20\n",
            "63/63 [==============================] - 2s 32ms/step - loss: 1.7091 - accuracy: 0.6059 - val_loss: 1.5661 - val_accuracy: 0.6390\n",
            "Epoch 3/20\n",
            "63/63 [==============================] - 1s 23ms/step - loss: 1.3569 - accuracy: 0.6671 - val_loss: 1.4523 - val_accuracy: 0.6520\n",
            "Epoch 4/20\n",
            "63/63 [==============================] - 1s 19ms/step - loss: 1.1774 - accuracy: 0.6904 - val_loss: 1.3834 - val_accuracy: 0.6610\n",
            "Epoch 5/20\n",
            "63/63 [==============================] - 1s 21ms/step - loss: 1.0373 - accuracy: 0.7169 - val_loss: 1.3148 - val_accuracy: 0.6750\n",
            "Epoch 6/20\n",
            "63/63 [==============================] - 1s 22ms/step - loss: 0.9267 - accuracy: 0.7499 - val_loss: 1.2726 - val_accuracy: 0.7070\n",
            "Epoch 7/20\n",
            "63/63 [==============================] - 1s 20ms/step - loss: 0.8370 - accuracy: 0.7745 - val_loss: 1.2640 - val_accuracy: 0.7100\n",
            "Epoch 8/20\n",
            "63/63 [==============================] - 1s 18ms/step - loss: 0.7686 - accuracy: 0.7835 - val_loss: 1.2727 - val_accuracy: 0.7140\n",
            "Epoch 9/20\n",
            "63/63 [==============================] - 1s 20ms/step - loss: 0.7101 - accuracy: 0.7932 - val_loss: 1.3047 - val_accuracy: 0.7120\n",
            "Epoch 10/20\n",
            "63/63 [==============================] - 1s 19ms/step - loss: 0.6612 - accuracy: 0.8092 - val_loss: 1.3180 - val_accuracy: 0.7090\n",
            "Epoch 11/20\n",
            "63/63 [==============================] - 1s 18ms/step - loss: 0.6152 - accuracy: 0.8206 - val_loss: 1.3446 - val_accuracy: 0.7130\n",
            "Epoch 12/20\n",
            "63/63 [==============================] - 1s 17ms/step - loss: 0.5767 - accuracy: 0.8312 - val_loss: 1.3949 - val_accuracy: 0.7160\n",
            "Epoch 13/20\n",
            "63/63 [==============================] - 1s 18ms/step - loss: 0.5407 - accuracy: 0.8459 - val_loss: 1.4345 - val_accuracy: 0.7120\n",
            "Epoch 14/20\n",
            "63/63 [==============================] - 1s 19ms/step - loss: 0.5073 - accuracy: 0.8544 - val_loss: 1.5004 - val_accuracy: 0.7100\n",
            "Epoch 15/20\n",
            "63/63 [==============================] - 1s 22ms/step - loss: 0.4800 - accuracy: 0.8602 - val_loss: 1.4912 - val_accuracy: 0.7140\n",
            "Epoch 16/20\n",
            "63/63 [==============================] - 1s 22ms/step - loss: 0.4537 - accuracy: 0.8644 - val_loss: 1.6002 - val_accuracy: 0.7010\n",
            "Epoch 17/20\n",
            "63/63 [==============================] - 1s 22ms/step - loss: 0.4304 - accuracy: 0.8742 - val_loss: 1.5893 - val_accuracy: 0.7130\n",
            "Epoch 18/20\n",
            "63/63 [==============================] - 1s 20ms/step - loss: 0.4100 - accuracy: 0.8851 - val_loss: 1.7094 - val_accuracy: 0.7120\n",
            "Epoch 19/20\n",
            "63/63 [==============================] - 1s 21ms/step - loss: 0.3922 - accuracy: 0.8903 - val_loss: 1.7382 - val_accuracy: 0.7050\n",
            "Epoch 20/20\n",
            "63/63 [==============================] - 1s 19ms/step - loss: 0.3765 - accuracy: 0.8955 - val_loss: 1.7670 - val_accuracy: 0.7120\n"
          ]
        },
        {
          "output_type": "execute_result",
          "data": {
            "text/plain": [
              "<keras.callbacks.History at 0x7f67214aa2d0>"
            ]
          },
          "metadata": {},
          "execution_count": 72
        }
      ]
    },
    {
      "cell_type": "markdown",
      "source": [
        "可以發現準確率達到71%，大約下降了8%，主要是因為我們試圖將大量信息壓縮到一個太低維的空間中。"
      ],
      "metadata": {
        "id": "DBTaAzRhiDqg"
      }
    },
    {
      "cell_type": "markdown",
      "source": [
        "# 總結"
      ],
      "metadata": {
        "id": "QpSALMttkLDb"
      }
    },
    {
      "cell_type": "markdown",
      "source": [
        "1.如果你常是在N個類別中對數據進行分類，你的模型應該以大小為N的Dense層結束\n",
        "2.在單標籤、多種分類問題中，你的模型應該以softmax激活函數結束，以便輸出N個輸出類的概率分布\n",
        "3.crossentropy總是應該用於此類問題的損失函數。它使模型輸出的概率分布與目標的真實分布之間的距離最小化\n",
        "4.多種分類中有兩種處理標籤的方法:1.通過分類編碼(one-hot encoding)對標籤進行編碼，並使用categorical_crossentropy作為損失函數。2.將標籤編碼為整數並使用sparse_categorical_crossentropy。\n",
        "5.如果需要將數據分類為大量分類，應避免中間層太小。"
      ],
      "metadata": {
        "id": "IYVbQm7tlnlY"
      }
    },
    {
      "cell_type": "markdown",
      "source": [
        "# 預測房價:回歸示例"
      ],
      "metadata": {
        "id": "cjvJH1Mwlqe_"
      }
    },
    {
      "cell_type": "code",
      "source": [
        "# The Boston Housing Price dataset 波士頓房價數據集\n",
        "from tensorflow.keras.datasets import boston_housing\n",
        "(train_data, train_targets), (test_data, test_targets) = boston_housing.load_data()"
      ],
      "metadata": {
        "colab": {
          "base_uri": "https://localhost:8080/"
        },
        "id": "zw6blrZxh5Qx",
        "outputId": "468ae449-8340-4ae5-fd90-e406a02d3fb6"
      },
      "execution_count": 77,
      "outputs": [
        {
          "output_type": "stream",
          "name": "stdout",
          "text": [
            "Downloading data from https://storage.googleapis.com/tensorflow/tf-keras-datasets/boston_housing.npz\n",
            "57344/57026 [==============================] - 0s 0us/step\n",
            "65536/57026 [==================================] - 0s 0us/step\n"
          ]
        }
      ]
    },
    {
      "cell_type": "code",
      "source": [
        "train_data.shape"
      ],
      "metadata": {
        "colab": {
          "base_uri": "https://localhost:8080/"
        },
        "id": "s-GM6I50l6jy",
        "outputId": "df2a1eca-04c2-482c-d2db-7ffab9a15d09"
      },
      "execution_count": 78,
      "outputs": [
        {
          "output_type": "execute_result",
          "data": {
            "text/plain": [
              "(404, 13)"
            ]
          },
          "metadata": {},
          "execution_count": 78
        }
      ]
    },
    {
      "cell_type": "code",
      "source": [
        "test_data.shape"
      ],
      "metadata": {
        "colab": {
          "base_uri": "https://localhost:8080/"
        },
        "id": "_M9bTy6Ol8MY",
        "outputId": "dab30b5a-b328-4c98-e218-2ebe9578b66b"
      },
      "execution_count": 79,
      "outputs": [
        {
          "output_type": "execute_result",
          "data": {
            "text/plain": [
              "(102, 13)"
            ]
          },
          "metadata": {},
          "execution_count": 79
        }
      ]
    },
    {
      "cell_type": "code",
      "source": [
        "train_targets"
      ],
      "metadata": {
        "colab": {
          "base_uri": "https://localhost:8080/"
        },
        "id": "62SByhBHl9IX",
        "outputId": "d9c06248-f7f1-4c43-8a86-c3b019f3ac57"
      },
      "execution_count": 80,
      "outputs": [
        {
          "output_type": "execute_result",
          "data": {
            "text/plain": [
              "array([15.2, 42.3, 50. , 21.1, 17.7, 18.5, 11.3, 15.6, 15.6, 14.4, 12.1,\n",
              "       17.9, 23.1, 19.9, 15.7,  8.8, 50. , 22.5, 24.1, 27.5, 10.9, 30.8,\n",
              "       32.9, 24. , 18.5, 13.3, 22.9, 34.7, 16.6, 17.5, 22.3, 16.1, 14.9,\n",
              "       23.1, 34.9, 25. , 13.9, 13.1, 20.4, 20. , 15.2, 24.7, 22.2, 16.7,\n",
              "       12.7, 15.6, 18.4, 21. , 30.1, 15.1, 18.7,  9.6, 31.5, 24.8, 19.1,\n",
              "       22. , 14.5, 11. , 32. , 29.4, 20.3, 24.4, 14.6, 19.5, 14.1, 14.3,\n",
              "       15.6, 10.5,  6.3, 19.3, 19.3, 13.4, 36.4, 17.8, 13.5, 16.5,  8.3,\n",
              "       14.3, 16. , 13.4, 28.6, 43.5, 20.2, 22. , 23. , 20.7, 12.5, 48.5,\n",
              "       14.6, 13.4, 23.7, 50. , 21.7, 39.8, 38.7, 22.2, 34.9, 22.5, 31.1,\n",
              "       28.7, 46. , 41.7, 21. , 26.6, 15. , 24.4, 13.3, 21.2, 11.7, 21.7,\n",
              "       19.4, 50. , 22.8, 19.7, 24.7, 36.2, 14.2, 18.9, 18.3, 20.6, 24.6,\n",
              "       18.2,  8.7, 44. , 10.4, 13.2, 21.2, 37. , 30.7, 22.9, 20. , 19.3,\n",
              "       31.7, 32. , 23.1, 18.8, 10.9, 50. , 19.6,  5. , 14.4, 19.8, 13.8,\n",
              "       19.6, 23.9, 24.5, 25. , 19.9, 17.2, 24.6, 13.5, 26.6, 21.4, 11.9,\n",
              "       22.6, 19.6,  8.5, 23.7, 23.1, 22.4, 20.5, 23.6, 18.4, 35.2, 23.1,\n",
              "       27.9, 20.6, 23.7, 28. , 13.6, 27.1, 23.6, 20.6, 18.2, 21.7, 17.1,\n",
              "        8.4, 25.3, 13.8, 22.2, 18.4, 20.7, 31.6, 30.5, 20.3,  8.8, 19.2,\n",
              "       19.4, 23.1, 23. , 14.8, 48.8, 22.6, 33.4, 21.1, 13.6, 32.2, 13.1,\n",
              "       23.4, 18.9, 23.9, 11.8, 23.3, 22.8, 19.6, 16.7, 13.4, 22.2, 20.4,\n",
              "       21.8, 26.4, 14.9, 24.1, 23.8, 12.3, 29.1, 21. , 19.5, 23.3, 23.8,\n",
              "       17.8, 11.5, 21.7, 19.9, 25. , 33.4, 28.5, 21.4, 24.3, 27.5, 33.1,\n",
              "       16.2, 23.3, 48.3, 22.9, 22.8, 13.1, 12.7, 22.6, 15. , 15.3, 10.5,\n",
              "       24. , 18.5, 21.7, 19.5, 33.2, 23.2,  5. , 19.1, 12.7, 22.3, 10.2,\n",
              "       13.9, 16.3, 17. , 20.1, 29.9, 17.2, 37.3, 45.4, 17.8, 23.2, 29. ,\n",
              "       22. , 18. , 17.4, 34.6, 20.1, 25. , 15.6, 24.8, 28.2, 21.2, 21.4,\n",
              "       23.8, 31. , 26.2, 17.4, 37.9, 17.5, 20. ,  8.3, 23.9,  8.4, 13.8,\n",
              "        7.2, 11.7, 17.1, 21.6, 50. , 16.1, 20.4, 20.6, 21.4, 20.6, 36.5,\n",
              "        8.5, 24.8, 10.8, 21.9, 17.3, 18.9, 36.2, 14.9, 18.2, 33.3, 21.8,\n",
              "       19.7, 31.6, 24.8, 19.4, 22.8,  7.5, 44.8, 16.8, 18.7, 50. , 50. ,\n",
              "       19.5, 20.1, 50. , 17.2, 20.8, 19.3, 41.3, 20.4, 20.5, 13.8, 16.5,\n",
              "       23.9, 20.6, 31.5, 23.3, 16.8, 14. , 33.8, 36.1, 12.8, 18.3, 18.7,\n",
              "       19.1, 29. , 30.1, 50. , 50. , 22. , 11.9, 37.6, 50. , 22.7, 20.8,\n",
              "       23.5, 27.9, 50. , 19.3, 23.9, 22.6, 15.2, 21.7, 19.2, 43.8, 20.3,\n",
              "       33.2, 19.9, 22.5, 32.7, 22. , 17.1, 19. , 15. , 16.1, 25.1, 23.7,\n",
              "       28.7, 37.2, 22.6, 16.4, 25. , 29.8, 22.1, 17.4, 18.1, 30.3, 17.5,\n",
              "       24.7, 12.6, 26.5, 28.7, 13.3, 10.4, 24.4, 23. , 20. , 17.8,  7. ,\n",
              "       11.8, 24.4, 13.8, 19.4, 25.2, 19.4, 19.4, 29.1])"
            ]
          },
          "metadata": {},
          "execution_count": 80
        }
      ]
    },
    {
      "cell_type": "markdown",
      "source": [
        "# Preparing the data 資料預處理"
      ],
      "metadata": {
        "id": "q5DRokKymT6M"
      }
    },
    {
      "cell_type": "code",
      "source": [
        "#標準化\n",
        "#減去特徵的均值並除以標準差，使得特徵以0為中心，具有單位標準差。\n",
        "# !!!:用於標準化test_data的數據是使用訓練數據計算的，\n",
        "#   你永遠不應該在工作流程中使用根據測試數據計算的任何數據，\n",
        "#   即使是像數據標準化這樣簡單的事情\n",
        "mean = train_data.mean(axis=0)\n",
        "train_data -= mean\n",
        "std = train_data.std(axis=0)\n",
        "train_data /= std\n",
        "test_data -= mean\n",
        "test_data /= std"
      ],
      "metadata": {
        "id": "VSbiAr3xl93r"
      },
      "execution_count": 82,
      "outputs": []
    },
    {
      "cell_type": "markdown",
      "source": [
        "# 建構模型"
      ],
      "metadata": {
        "id": "Q9YQI45Gnp-k"
      }
    },
    {
      "cell_type": "code",
      "source": [
        "#模型以1個神經元結束，沒有激活函數，它將是一個線性層\n",
        "#這是純量回歸的典型設置\n",
        "#如果你在最後設置了激活函數，會限制輸出的範圍\n",
        "#如果你將sigmoid設置在最後一層，那模型只能學習預測0~1的值\n",
        "#而這裡，因為最後一層是純線性的，因此模型可以自由學習預測任何範圍\n",
        "def build_model():\n",
        "    model = keras.Sequential([\n",
        "        layers.Dense(64, activation=\"relu\"),\n",
        "        layers.Dense(64, activation=\"relu\"),\n",
        "        layers.Dense(1)\n",
        "    ])\n",
        "    model.compile(optimizer=\"rmsprop\", loss=\"mse\", metrics=[\"mae\"])\n",
        "    return model\n",
        "#mse:均方誤差，預測與目標之間差異的平方，這是回歸問題中廣泛使用的損失函數。\n",
        "#mae:平均絕對誤差，預測和目標之間差異的絕對值"
      ],
      "metadata": {
        "id": "h4Isw0O8mZbT"
      },
      "execution_count": 83,
      "outputs": []
    },
    {
      "cell_type": "markdown",
      "source": [
        "# 使用K-fold驗證"
      ],
      "metadata": {
        "id": "lJewZv7ypdEU"
      }
    },
    {
      "cell_type": "markdown",
      "source": [
        "因為我們的數據太少，驗證集最終會非常小。\n",
        "因此驗證數據和訓練數據的準確率會有很大的差異\n",
        "這會阻止我們有效的評估模型\n",
        "在這種情況下最適合使用K-fold交叉驗證"
      ],
      "metadata": {
        "id": "In2OEUehph4K"
      }
    },
    {
      "cell_type": "code",
      "source": [
        "k = 4\n",
        "num_val_samples = len(train_data) // k\n",
        "num_epochs = 100\n",
        "all_scores = []\n",
        "for i in range(k):\n",
        "    print(f\"Processing fold #{i}\")\n",
        "    val_data = train_data[i * num_val_samples: (i + 1) * num_val_samples]\n",
        "    val_targets = train_targets[i * num_val_samples: (i + 1) * num_val_samples]\n",
        "    partial_train_data = np.concatenate(\n",
        "        [train_data[:i * num_val_samples],\n",
        "         train_data[(i + 1) * num_val_samples:]],\n",
        "        axis=0)\n",
        "    partial_train_targets = np.concatenate(\n",
        "        [train_targets[:i * num_val_samples],\n",
        "         train_targets[(i + 1) * num_val_samples:]],\n",
        "        axis=0)\n",
        "    model = build_model()\n",
        "    model.fit(partial_train_data, partial_train_targets,\n",
        "              epochs=num_epochs, batch_size=16, verbose=0)\n",
        "    val_mse, val_mae = model.evaluate(val_data, val_targets, verbose=0)\n",
        "    all_scores.append(val_mae)"
      ],
      "metadata": {
        "colab": {
          "base_uri": "https://localhost:8080/"
        },
        "id": "HnbG2Ettn0yw",
        "outputId": "c68c7941-7f2d-4951-973b-bd4b7714b4b6"
      },
      "execution_count": 84,
      "outputs": [
        {
          "output_type": "stream",
          "name": "stdout",
          "text": [
            "Processing fold #0\n",
            "Processing fold #1\n",
            "Processing fold #2\n",
            "Processing fold #3\n"
          ]
        }
      ]
    },
    {
      "cell_type": "code",
      "source": [
        "all_scores"
      ],
      "metadata": {
        "colab": {
          "base_uri": "https://localhost:8080/"
        },
        "id": "rq2KfwShqNLA",
        "outputId": "7cef5515-a678-4716-e5f2-54718d800c74"
      },
      "execution_count": 85,
      "outputs": [
        {
          "output_type": "execute_result",
          "data": {
            "text/plain": [
              "[1.9654229879379272, 2.7066123485565186, 2.3081233501434326, 2.637432813644409]"
            ]
          },
          "metadata": {},
          "execution_count": 85
        }
      ]
    },
    {
      "cell_type": "code",
      "source": [
        "np.mean(all_scores)"
      ],
      "metadata": {
        "colab": {
          "base_uri": "https://localhost:8080/"
        },
        "id": "9pHfdVJIqOik",
        "outputId": "351cc13d-0f90-4529-e96b-3389f72abb9a"
      },
      "execution_count": 86,
      "outputs": [
        {
          "output_type": "execute_result",
          "data": {
            "text/plain": [
              "2.404397875070572"
            ]
          },
          "metadata": {},
          "execution_count": 86
        }
      ]
    },
    {
      "cell_type": "markdown",
      "source": [
        "# 嘗試更長時間地訓練模型:500epoch"
      ],
      "metadata": {
        "id": "CZT-1BxJrcrT"
      }
    },
    {
      "cell_type": "markdown",
      "source": [
        "為了記錄模型在每個epoch的表現，現在修改訓練循環以保存每個fold的每個epoch的驗證分數"
      ],
      "metadata": {
        "id": "KhL9FmANsLc6"
      }
    },
    {
      "cell_type": "code",
      "source": [
        "num_epochs = 500\n",
        "all_mae_histories = []\n",
        "for i in range(k):\n",
        "    print(f\"Processing fold #{i}\")\n",
        "    val_data = train_data[i * num_val_samples: (i + 1) * num_val_samples]\n",
        "    val_targets = train_targets[i * num_val_samples: (i + 1) * num_val_samples]\n",
        "    partial_train_data = np.concatenate(\n",
        "        [train_data[:i * num_val_samples],\n",
        "         train_data[(i + 1) * num_val_samples:]],\n",
        "        axis=0)\n",
        "    partial_train_targets = np.concatenate(\n",
        "        [train_targets[:i * num_val_samples],\n",
        "         train_targets[(i + 1) * num_val_samples:]],\n",
        "        axis=0)\n",
        "    model = build_model()\n",
        "    history = model.fit(partial_train_data, partial_train_targets,\n",
        "                        validation_data=(val_data, val_targets),\n",
        "                        epochs=num_epochs, batch_size=16, verbose=0)\n",
        "    mae_history = history.history[\"val_mae\"]\n",
        "    all_mae_histories.append(mae_history)"
      ],
      "metadata": {
        "colab": {
          "base_uri": "https://localhost:8080/"
        },
        "id": "aqnwc8_5qRmX",
        "outputId": "8b05269b-438c-4240-b278-f275dcc21876"
      },
      "execution_count": 87,
      "outputs": [
        {
          "metadata": {
            "tags": null
          },
          "name": "stdout",
          "output_type": "stream",
          "text": [
            "Processing fold #0\n",
            "Processing fold #1\n",
            "Processing fold #2\n",
            "Processing fold #3\n"
          ]
        }
      ]
    },
    {
      "cell_type": "markdown",
      "source": [
        "# Building the history of successive mean K-fold validation scores 建構連續平均K-fold驗證分數的歷史"
      ],
      "metadata": {
        "id": "Vj-yY2orscs9"
      }
    },
    {
      "cell_type": "code",
      "source": [
        "average_mae_history = [\n",
        "    np.mean([x[i] for x in all_mae_histories]) for i in range(num_epochs)]"
      ],
      "metadata": {
        "id": "gr6XWyIbrbva"
      },
      "execution_count": 88,
      "outputs": []
    },
    {
      "cell_type": "markdown",
      "source": [
        "繪圖"
      ],
      "metadata": {
        "id": "3mFPnoi0sq_k"
      }
    },
    {
      "cell_type": "code",
      "source": [
        "plt.plot(range(1, len(average_mae_history) + 1), average_mae_history)\n",
        "plt.xlabel(\"Epochs\")\n",
        "plt.ylabel(\"Validation MAE\")\n",
        "plt.show()"
      ],
      "metadata": {
        "colab": {
          "base_uri": "https://localhost:8080/",
          "height": 279
        },
        "id": "uOsv5mloso4-",
        "outputId": "a94a684d-bb2c-409f-c88f-6d6c6fa69ded"
      },
      "execution_count": 89,
      "outputs": [
        {
          "output_type": "display_data",
          "data": {
            "text/plain": [
              "<Figure size 432x288 with 1 Axes>"
            ],
            "image/png": "[encoded data removed]"
          },
          "metadata": {
            "needs_background": "light"
          }
        }
      ]
    },
    {
      "cell_type": "markdown",
      "source": [
        "由於前10個的驗證份數過高\n",
        "所以現在忽略前十筆資料再繪圖"
      ],
      "metadata": {
        "id": "qf7sRD0gs0OK"
      }
    },
    {
      "cell_type": "code",
      "source": [
        "truncated_mae_history = average_mae_history[10:]\n",
        "plt.plot(range(1, len(truncated_mae_history) + 1), truncated_mae_history)\n",
        "plt.xlabel(\"Epochs\")\n",
        "plt.ylabel(\"Validation MAE\")\n",
        "plt.show()"
      ],
      "metadata": {
        "colab": {
          "base_uri": "https://localhost:8080/",
          "height": 279
        },
        "id": "JvMv4F5astO3",
        "outputId": "e4c77d16-85ba-483b-8659-483e836f11f1"
      },
      "execution_count": 90,
      "outputs": [
        {
          "output_type": "display_data",
          "data": {
            "text/plain": [
              "<Figure size 432x288 with 1 Axes>"
            ],
            "image/png": "[encoded data removed]"
          },
          "metadata": {
            "needs_background": "light"
          }
        }
      ]
    },
    {
      "cell_type": "markdown",
      "source": [
        "# 訓練最終模型"
      ],
      "metadata": {
        "id": "k_eOQCA4tAuV"
      }
    },
    {
      "cell_type": "code",
      "source": [
        "model = build_model()\n",
        "model.fit(train_data, train_targets,\n",
        "          epochs=130, batch_size=16, verbose=0)\n",
        "test_mse_score, test_mae_score = model.evaluate(test_data, test_targets)"
      ],
      "metadata": {
        "colab": {
          "base_uri": "https://localhost:8080/"
        },
        "id": "mPtL9Gtjs9FI",
        "outputId": "925e1c71-603d-4ed5-8d8d-9e1cbd090deb"
      },
      "execution_count": 94,
      "outputs": [
        {
          "output_type": "stream",
          "name": "stdout",
          "text": [
            "4/4 [==============================] - 0s 4ms/step - loss: 15.9460 - mae: 2.7386\n"
          ]
        }
      ]
    },
    {
      "cell_type": "code",
      "source": [
        "test_mae_score"
      ],
      "metadata": {
        "colab": {
          "base_uri": "https://localhost:8080/"
        },
        "id": "8VsX19irtT5Y",
        "outputId": "1281bd64-f4a5-4de2-e96f-a147a17c1058"
      },
      "execution_count": 95,
      "outputs": [
        {
          "output_type": "execute_result",
          "data": {
            "text/plain": [
              "2.7385969161987305"
            ]
          },
          "metadata": {},
          "execution_count": 95
        }
      ]
    },
    {
      "cell_type": "markdown",
      "source": [
        "# 對新數據進行預測"
      ],
      "metadata": {
        "id": "SsH8QNlItIz8"
      }
    },
    {
      "cell_type": "code",
      "source": [
        "#單位為千美元，所以這邊結果為8996美元\n",
        "predictions = model.predict(test_data)\n",
        "predictions[0]"
      ],
      "metadata": {
        "colab": {
          "base_uri": "https://localhost:8080/"
        },
        "id": "Vb3R6cV3tFEq",
        "outputId": "e8744c24-64dd-46b6-f3a8-b9e3ec9600a7"
      },
      "execution_count": 96,
      "outputs": [
        {
          "output_type": "execute_result",
          "data": {
            "text/plain": [
              "array([8.996703], dtype=float32)"
            ]
          },
          "metadata": {},
          "execution_count": 96
        }
      ]
    },
    {
      "cell_type": "markdown",
      "source": [
        "# 總結"
      ],
      "metadata": {
        "id": "yH0fm7Nxtn5u"
      }
    },
    {
      "cell_type": "markdown",
      "source": [
        "1.回歸使用不同於用於分類的損失函數，均方誤差(MSE)是一種常用於回歸的損失函數。\n",
        "2.同理，用於回歸的評估指標和分類不同，準確性的概念不適用於回歸。一種常見的回歸指標是平均絕對誤差(MAE)\n",
        "3.當輸入數據的特徵具有不同範圍時，每個特徵都應作為預處理步驟獨立縮放\n",
        "4.當可用數據很少時，使用K-fold驗證是可靠評估的好方法\n",
        "5.當可用訓練數據很少時，最好使用中間層很少(通常只有一兩個)的小型模型，以避免嚴重的過度擬合。\n"
      ],
      "metadata": {
        "id": "Bi7KAb-Au97N"
      }
    },
    {
      "cell_type": "code",
      "source": [],
      "metadata": {
        "id": "_SL9IJQetIUE"
      },
      "execution_count": 96,
      "outputs": []
    }
  ]
}
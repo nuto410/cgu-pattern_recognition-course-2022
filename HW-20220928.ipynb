{
 "cells": [
  {
   "cell_type": "markdown",
   "id": "9bde92a1",
   "metadata": {},
   "source": [
    "### 長庚資工碩一 M1129017 江佳倫 20220928"
   ]
  },
  {
   "cell_type": "code",
   "execution_count": 103,
   "id": "15b3c0ed",
   "metadata": {},
   "outputs": [],
   "source": [
    "#長庚大學 資工系/人工智慧學程 樣形識別/深度學習 課程使用之教材及示範程式 Ch02參考 https://github.com/renyuanL/Cgu-Deep-Learning-Course-2022/blob/main/ryCh02.ipynb"
   ]
  },
  {
   "cell_type": "code",
   "execution_count": 104,
   "id": "dfab223e",
   "metadata": {},
   "outputs": [
    {
     "name": "stdout",
     "output_type": "stream",
     "text": [
      "Python 3.8.8\n"
     ]
    }
   ],
   "source": [
    "!python -V"
   ]
  },
  {
   "cell_type": "code",
   "execution_count": 105,
   "id": "7d60d70c",
   "metadata": {},
   "outputs": [],
   "source": [
    "#import package\n",
    "import numpy as np\n",
    "import tensorflow as tf\n",
    "from tensorflow.keras.datasets import mnist"
   ]
  },
  {
   "cell_type": "code",
   "execution_count": 106,
   "id": "e1d0a262",
   "metadata": {},
   "outputs": [],
   "source": [
    "#import data\n",
    "#data type : 60000 28X28 images data\n",
    "(x_train_images,y_train_labels),\\\n",
    "(x_test_images,y_test_labels) = mnist.load_data()"
   ]
  },
  {
   "cell_type": "code",
   "execution_count": 107,
   "id": "5d5a955b",
   "metadata": {},
   "outputs": [
    {
     "data": {
      "text/plain": [
       "(60000, 28, 28)"
      ]
     },
     "execution_count": 107,
     "metadata": {},
     "output_type": "execute_result"
    }
   ],
   "source": [
    "#check data\n",
    "x_train_images.shape"
   ]
  },
  {
   "cell_type": "code",
   "execution_count": 108,
   "id": "7df4f840",
   "metadata": {},
   "outputs": [
    {
     "data": {
      "text/plain": [
       "(10000, 28, 28)"
      ]
     },
     "execution_count": 108,
     "metadata": {},
     "output_type": "execute_result"
    }
   ],
   "source": [
    "x_test_images.shape"
   ]
  },
  {
   "cell_type": "code",
   "execution_count": 109,
   "id": "d21d9fa0",
   "metadata": {},
   "outputs": [
    {
     "data": {
      "text/plain": [
       "(60000,)"
      ]
     },
     "execution_count": 109,
     "metadata": {},
     "output_type": "execute_result"
    }
   ],
   "source": [
    "y_train_labels.shape"
   ]
  },
  {
   "cell_type": "code",
   "execution_count": 110,
   "id": "de2b7f1d",
   "metadata": {},
   "outputs": [
    {
     "data": {
      "text/plain": [
       "(10000,)"
      ]
     },
     "execution_count": 110,
     "metadata": {},
     "output_type": "execute_result"
    }
   ],
   "source": [
    "y_test_labels.shape"
   ]
  },
  {
   "cell_type": "code",
   "execution_count": 111,
   "id": "a9a50e7e",
   "metadata": {},
   "outputs": [
    {
     "data": {
      "text/plain": [
       "array([[  0,   0,   0,   0,   0,   0,   0,   0,   0,   0,   0,   0,   0,\n",
       "          0,   0,   0,   0,   0,   0,   0,   0,   0,   0,   0,   0,   0,\n",
       "          0,   0],\n",
       "       [  0,   0,   0,   0,   0,   0,   0,   0,   0,   0,   0,   0,   0,\n",
       "          0,   0,   0,   0,   0,   0,   0,   0,   0,   0,   0,   0,   0,\n",
       "          0,   0],\n",
       "       [  0,   0,   0,   0,   0,   0,   0,   0,   0,   0,   0,   0,   0,\n",
       "          0,   0,   0,   0,   0,   0,   0,   0,   0,   0,   0,   0,   0,\n",
       "          0,   0],\n",
       "       [  0,   0,   0,   0,   0,   0,   0,   0,   0,   0,   0,   0,   0,\n",
       "          0,   0,   0,   0,   0,   0,   0,   0,   0,   0,   0,   0,   0,\n",
       "          0,   0],\n",
       "       [  0,   0,   0,   0,   0,   0,   0,   0,   0,   0,   0,   0,   0,\n",
       "          0,   0,   0,   0,   0,   0,   0,   0,   0,   0,   0,   0,   0,\n",
       "          0,   0],\n",
       "       [  0,   0,   0,   0,   0,   0,   0,   0,   0,   0,   0,   0,   3,\n",
       "         18,  18,  18, 126, 136, 175,  26, 166, 255, 247, 127,   0,   0,\n",
       "          0,   0],\n",
       "       [  0,   0,   0,   0,   0,   0,   0,   0,  30,  36,  94, 154, 170,\n",
       "        253, 253, 253, 253, 253, 225, 172, 253, 242, 195,  64,   0,   0,\n",
       "          0,   0],\n",
       "       [  0,   0,   0,   0,   0,   0,   0,  49, 238, 253, 253, 253, 253,\n",
       "        253, 253, 253, 253, 251,  93,  82,  82,  56,  39,   0,   0,   0,\n",
       "          0,   0],\n",
       "       [  0,   0,   0,   0,   0,   0,   0,  18, 219, 253, 253, 253, 253,\n",
       "        253, 198, 182, 247, 241,   0,   0,   0,   0,   0,   0,   0,   0,\n",
       "          0,   0],\n",
       "       [  0,   0,   0,   0,   0,   0,   0,   0,  80, 156, 107, 253, 253,\n",
       "        205,  11,   0,  43, 154,   0,   0,   0,   0,   0,   0,   0,   0,\n",
       "          0,   0],\n",
       "       [  0,   0,   0,   0,   0,   0,   0,   0,   0,  14,   1, 154, 253,\n",
       "         90,   0,   0,   0,   0,   0,   0,   0,   0,   0,   0,   0,   0,\n",
       "          0,   0],\n",
       "       [  0,   0,   0,   0,   0,   0,   0,   0,   0,   0,   0, 139, 253,\n",
       "        190,   2,   0,   0,   0,   0,   0,   0,   0,   0,   0,   0,   0,\n",
       "          0,   0],\n",
       "       [  0,   0,   0,   0,   0,   0,   0,   0,   0,   0,   0,  11, 190,\n",
       "        253,  70,   0,   0,   0,   0,   0,   0,   0,   0,   0,   0,   0,\n",
       "          0,   0],\n",
       "       [  0,   0,   0,   0,   0,   0,   0,   0,   0,   0,   0,   0,  35,\n",
       "        241, 225, 160, 108,   1,   0,   0,   0,   0,   0,   0,   0,   0,\n",
       "          0,   0],\n",
       "       [  0,   0,   0,   0,   0,   0,   0,   0,   0,   0,   0,   0,   0,\n",
       "         81, 240, 253, 253, 119,  25,   0,   0,   0,   0,   0,   0,   0,\n",
       "          0,   0],\n",
       "       [  0,   0,   0,   0,   0,   0,   0,   0,   0,   0,   0,   0,   0,\n",
       "          0,  45, 186, 253, 253, 150,  27,   0,   0,   0,   0,   0,   0,\n",
       "          0,   0],\n",
       "       [  0,   0,   0,   0,   0,   0,   0,   0,   0,   0,   0,   0,   0,\n",
       "          0,   0,  16,  93, 252, 253, 187,   0,   0,   0,   0,   0,   0,\n",
       "          0,   0],\n",
       "       [  0,   0,   0,   0,   0,   0,   0,   0,   0,   0,   0,   0,   0,\n",
       "          0,   0,   0,   0, 249, 253, 249,  64,   0,   0,   0,   0,   0,\n",
       "          0,   0],\n",
       "       [  0,   0,   0,   0,   0,   0,   0,   0,   0,   0,   0,   0,   0,\n",
       "          0,  46, 130, 183, 253, 253, 207,   2,   0,   0,   0,   0,   0,\n",
       "          0,   0],\n",
       "       [  0,   0,   0,   0,   0,   0,   0,   0,   0,   0,   0,   0,  39,\n",
       "        148, 229, 253, 253, 253, 250, 182,   0,   0,   0,   0,   0,   0,\n",
       "          0,   0],\n",
       "       [  0,   0,   0,   0,   0,   0,   0,   0,   0,   0,  24, 114, 221,\n",
       "        253, 253, 253, 253, 201,  78,   0,   0,   0,   0,   0,   0,   0,\n",
       "          0,   0],\n",
       "       [  0,   0,   0,   0,   0,   0,   0,   0,  23,  66, 213, 253, 253,\n",
       "        253, 253, 198,  81,   2,   0,   0,   0,   0,   0,   0,   0,   0,\n",
       "          0,   0],\n",
       "       [  0,   0,   0,   0,   0,   0,  18, 171, 219, 253, 253, 253, 253,\n",
       "        195,  80,   9,   0,   0,   0,   0,   0,   0,   0,   0,   0,   0,\n",
       "          0,   0],\n",
       "       [  0,   0,   0,   0,  55, 172, 226, 253, 253, 253, 253, 244, 133,\n",
       "         11,   0,   0,   0,   0,   0,   0,   0,   0,   0,   0,   0,   0,\n",
       "          0,   0],\n",
       "       [  0,   0,   0,   0, 136, 253, 253, 253, 212, 135, 132,  16,   0,\n",
       "          0,   0,   0,   0,   0,   0,   0,   0,   0,   0,   0,   0,   0,\n",
       "          0,   0],\n",
       "       [  0,   0,   0,   0,   0,   0,   0,   0,   0,   0,   0,   0,   0,\n",
       "          0,   0,   0,   0,   0,   0,   0,   0,   0,   0,   0,   0,   0,\n",
       "          0,   0],\n",
       "       [  0,   0,   0,   0,   0,   0,   0,   0,   0,   0,   0,   0,   0,\n",
       "          0,   0,   0,   0,   0,   0,   0,   0,   0,   0,   0,   0,   0,\n",
       "          0,   0],\n",
       "       [  0,   0,   0,   0,   0,   0,   0,   0,   0,   0,   0,   0,   0,\n",
       "          0,   0,   0,   0,   0,   0,   0,   0,   0,   0,   0,   0,   0,\n",
       "          0,   0]], dtype=uint8)"
      ]
     },
     "execution_count": 111,
     "metadata": {},
     "output_type": "execute_result"
    }
   ],
   "source": [
    "#check the first data\n",
    "x_train_images[0]"
   ]
  },
  {
   "cell_type": "code",
   "execution_count": 112,
   "id": "648370b0",
   "metadata": {},
   "outputs": [
    {
     "data": {
      "text/plain": [
       "5"
      ]
     },
     "execution_count": 112,
     "metadata": {},
     "output_type": "execute_result"
    }
   ],
   "source": [
    "y_train_labels[0]"
   ]
  },
  {
   "cell_type": "code",
   "execution_count": 113,
   "id": "9276cb8a",
   "metadata": {},
   "outputs": [
    {
     "name": "stdout",
     "output_type": "stream",
     "text": [
      "  0  0  0  0  0  0  0  0  0  0  0  0  0  0  0  0  0  0  0  0  0  0  0  0  0  0  0  0\n",
      "  0  0  0  0  0  0  0  0  0  0  0  0  0  0  0  0  0  0  0  0  0  0  0  0  0  0  0  0\n",
      "  0  0  0  0  0  0  0  0  0  0  0  0  0  0  0  0  0  0  0  0  0  0  0  0  0  0  0  0\n",
      "  0  0  0  0  0  0  0  0  0  0  0  0  0  0  0  0  0  0  0  0  0  0  0  0  0  0  0  0\n",
      "  0  0  0  0  0  0  0  0  0  0  0  0  0  0  0  0  0  0  0  0  0  0  0  0  0  0  0  0\n",
      "  0  0  0  0  0  0  0  0  0  0  0  0  3 18 18 18126136175 26166255247127  0  0  0  0\n",
      "  0  0  0  0  0  0  0  0 30 36 94154170253253253253253225172253242195 64  0  0  0  0\n",
      "  0  0  0  0  0  0  0 49238253253253253253253253253251 93 82 82 56 39  0  0  0  0  0\n",
      "  0  0  0  0  0  0  0 18219253253253253253198182247241  0  0  0  0  0  0  0  0  0  0\n",
      "  0  0  0  0  0  0  0  0 80156107253253205 11  0 43154  0  0  0  0  0  0  0  0  0  0\n",
      "  0  0  0  0  0  0  0  0  0 14  1154253 90  0  0  0  0  0  0  0  0  0  0  0  0  0  0\n",
      "  0  0  0  0  0  0  0  0  0  0  0139253190  2  0  0  0  0  0  0  0  0  0  0  0  0  0\n",
      "  0  0  0  0  0  0  0  0  0  0  0 11190253 70  0  0  0  0  0  0  0  0  0  0  0  0  0\n",
      "  0  0  0  0  0  0  0  0  0  0  0  0 35241225160108  1  0  0  0  0  0  0  0  0  0  0\n",
      "  0  0  0  0  0  0  0  0  0  0  0  0  0 81240253253119 25  0  0  0  0  0  0  0  0  0\n",
      "  0  0  0  0  0  0  0  0  0  0  0  0  0  0 45186253253150 27  0  0  0  0  0  0  0  0\n",
      "  0  0  0  0  0  0  0  0  0  0  0  0  0  0  0 16 93252253187  0  0  0  0  0  0  0  0\n",
      "  0  0  0  0  0  0  0  0  0  0  0  0  0  0  0  0  0249253249 64  0  0  0  0  0  0  0\n",
      "  0  0  0  0  0  0  0  0  0  0  0  0  0  0 46130183253253207  2  0  0  0  0  0  0  0\n",
      "  0  0  0  0  0  0  0  0  0  0  0  0 39148229253253253250182  0  0  0  0  0  0  0  0\n",
      "  0  0  0  0  0  0  0  0  0  0 24114221253253253253201 78  0  0  0  0  0  0  0  0  0\n",
      "  0  0  0  0  0  0  0  0 23 66213253253253253198 81  2  0  0  0  0  0  0  0  0  0  0\n",
      "  0  0  0  0  0  0 18171219253253253253195 80  9  0  0  0  0  0  0  0  0  0  0  0  0\n",
      "  0  0  0  0 55172226253253253253244133 11  0  0  0  0  0  0  0  0  0  0  0  0  0  0\n",
      "  0  0  0  0136253253253212135132 16  0  0  0  0  0  0  0  0  0  0  0  0  0  0  0  0\n",
      "  0  0  0  0  0  0  0  0  0  0  0  0  0  0  0  0  0  0  0  0  0  0  0  0  0  0  0  0\n",
      "  0  0  0  0  0  0  0  0  0  0  0  0  0  0  0  0  0  0  0  0  0  0  0  0  0  0  0  0\n",
      "  0  0  0  0  0  0  0  0  0  0  0  0  0  0  0  0  0  0  0  0  0  0  0  0  0  0  0  0\n"
     ]
    }
   ],
   "source": [
    "#output the first data\n",
    "x=x_train_images[0]\n",
    "for i in range(28):\n",
    "    for j in range(28):\n",
    "        z= x[i,j]\n",
    "        print(f'{z:3d}', end='')\n",
    "    print()"
   ]
  },
  {
   "cell_type": "code",
   "execution_count": 114,
   "id": "3706e7d7",
   "metadata": {
    "scrolled": false
   },
   "outputs": [
    {
     "data": {
      "text/plain": [
       "<matplotlib.image.AxesImage at 0x1989655cd30>"
      ]
     },
     "execution_count": 114,
     "metadata": {},
     "output_type": "execute_result"
    },
    {
     "data": {
      "image/png": "[encoded data removed]",
      "text/plain": [
       "<Figure size 432x288 with 1 Axes>"
      ]
     },
     "metadata": {
      "needs_background": "light"
     },
     "output_type": "display_data"
    }
   ],
   "source": [
    "#check the image\n",
    "import matplotlib.pyplot as pl\n",
    "pl.imshow(x)"
   ]
  },
  {
   "cell_type": "code",
   "execution_count": 115,
   "id": "a5e347d4",
   "metadata": {},
   "outputs": [
    {
     "name": "stdout",
     "output_type": "stream",
     "text": [
      "5\n"
     ]
    }
   ],
   "source": [
    "#check the label\n",
    "y=y_train_labels[0]\n",
    "print(y)"
   ]
  },
  {
   "cell_type": "code",
   "execution_count": 129,
   "id": "c03321b2",
   "metadata": {},
   "outputs": [],
   "source": [
    "#data processing\n",
    "#first: input data 3 dim -> 2 dim\n",
    "x_train_images = x_train_images.reshape(-1,28*28)\n",
    "x_test_images = x_test_images.reshape(-1,28*28)\n",
    "\n",
    "#second: normalize the data\n",
    "x_train_normalize = x_train_images.astype('float32') / 255.\n",
    "x_test_normalize  = x_test_images.astype('float32') / 255."
   ]
  },
  {
   "cell_type": "code",
   "execution_count": 126,
   "id": "f5ae4fa9",
   "metadata": {},
   "outputs": [
    {
     "name": "stdout",
     "output_type": "stream",
     "text": [
      "Model: \"sequential_55\"\n",
      "_________________________________________________________________\n",
      " Layer (type)                Output Shape              Param #   \n",
      "=================================================================\n",
      " dense_114 (Dense)           (None, 100)               78500     \n",
      "                                                                 \n",
      " dense_115 (Dense)           (None, 10)                1010      \n",
      "                                                                 \n",
      "=================================================================\n",
      "Total params: 79,510\n",
      "Trainable params: 79,510\n",
      "Non-trainable params: 0\n",
      "_________________________________________________________________\n",
      "Epoch 1/10\n",
      "600/600 [==============================] - 2s 2ms/step - loss: 2.3572 - accuracy: 0.4866\n",
      "Epoch 2/10\n",
      "600/600 [==============================] - 1s 2ms/step - loss: 2.2642 - accuracy: 0.3078\n",
      "Epoch 3/10\n",
      "600/600 [==============================] - 1s 2ms/step - loss: 2.2228 - accuracy: 0.3053\n",
      "Epoch 4/10\n",
      "600/600 [==============================] - 1s 2ms/step - loss: 2.1986 - accuracy: 0.3037\n",
      "Epoch 5/10\n",
      "600/600 [==============================] - 1s 2ms/step - loss: 2.1795 - accuracy: 0.2673\n",
      "Epoch 6/10\n",
      "600/600 [==============================] - 1s 2ms/step - loss: 2.1690 - accuracy: 0.3045\n",
      "Epoch 7/10\n",
      "600/600 [==============================] - 1s 2ms/step - loss: 2.1256 - accuracy: 0.2641\n",
      "Epoch 8/10\n",
      "600/600 [==============================] - 1s 2ms/step - loss: 2.1464 - accuracy: 0.2549\n",
      "Epoch 9/10\n",
      "600/600 [==============================] - 1s 2ms/step - loss: 2.1351 - accuracy: 0.2357\n",
      "Epoch 10/10\n",
      "600/600 [==============================] - 1s 2ms/step - loss: 2.0943 - accuracy: 0.3092\n",
      "1875/1875 [==============================] - 2s 1ms/step - loss: 2.0535 - accuracy: 0.3517\n"
     ]
    },
    {
     "data": {
      "text/plain": [
       "[2.0534932613372803, 0.351666659116745]"
      ]
     },
     "execution_count": 126,
     "metadata": {},
     "output_type": "execute_result"
    }
   ],
   "source": [
    "#The network architecture\n",
    "from tensorflow import keras\n",
    "from tensorflow.keras import layers\n",
    "model = keras.Sequential([\n",
    "    keras.Input(28*28),\n",
    "    keras.layers.Dense(100),    \n",
    "    keras.layers.Dense(10)\n",
    "])\n",
    "#The compilation step\n",
    "model.compile(\n",
    "    optimizer=\"rmsprop\",\n",
    "    loss='sparse_categorical_crossentropy',\n",
    "    metrics= ['accuracy'])\n",
    "model.summary()\n",
    "#“Fitting”the model\n",
    "model.fit(x_train_normalize, y_train_labels, \n",
    "           epochs= 10, \n",
    "           batch_size= 100)\n",
    "# model test : (loss,accuracy)\n",
    "model.evaluate(x_train_normalize, y_train_labels)"
   ]
  },
  {
   "cell_type": "markdown",
   "id": "bd1e3f5b",
   "metadata": {},
   "source": [
    "## 準確率:35% 有待改進"
   ]
  },
  {
   "cell_type": "markdown",
   "id": "218cd69f",
   "metadata": {},
   "source": [
    "# test1: add dense 100"
   ]
  },
  {
   "cell_type": "code",
   "execution_count": 127,
   "id": "db527006",
   "metadata": {},
   "outputs": [
    {
     "name": "stdout",
     "output_type": "stream",
     "text": [
      "Model: \"sequential_56\"\n",
      "_________________________________________________________________\n",
      " Layer (type)                Output Shape              Param #   \n",
      "=================================================================\n",
      " dense_116 (Dense)           (None, 100)               78500     \n",
      "                                                                 \n",
      " dense_117 (Dense)           (None, 100)               10100     \n",
      "                                                                 \n",
      " dense_118 (Dense)           (None, 10)                1010      \n",
      "                                                                 \n",
      "=================================================================\n",
      "Total params: 89,610\n",
      "Trainable params: 89,610\n",
      "Non-trainable params: 0\n",
      "_________________________________________________________________\n",
      "Epoch 1/10\n",
      "600/600 [==============================] - 2s 2ms/step - loss: 2.0706 - accuracy: 0.4847\n",
      "Epoch 2/10\n",
      "600/600 [==============================] - 1s 2ms/step - loss: 2.3026 - accuracy: 0.4191\n",
      "Epoch 3/10\n",
      "600/600 [==============================] - 1s 2ms/step - loss: 2.3026 - accuracy: 0.4191\n",
      "Epoch 4/10\n",
      "600/600 [==============================] - 1s 2ms/step - loss: 2.3026 - accuracy: 0.4191\n",
      "Epoch 5/10\n",
      "600/600 [==============================] - 1s 2ms/step - loss: 2.3026 - accuracy: 0.4191\n",
      "Epoch 6/10\n",
      "600/600 [==============================] - 1s 2ms/step - loss: 2.3026 - accuracy: 0.4191\n",
      "Epoch 7/10\n",
      "600/600 [==============================] - 1s 2ms/step - loss: 2.3026 - accuracy: 0.4191\n",
      "Epoch 8/10\n",
      "600/600 [==============================] - 1s 2ms/step - loss: 2.3026 - accuracy: 0.4191\n",
      "Epoch 9/10\n",
      "600/600 [==============================] - 1s 2ms/step - loss: 2.3026 - accuracy: 0.4191\n",
      "Epoch 10/10\n",
      "600/600 [==============================] - 1s 2ms/step - loss: 2.3026 - accuracy: 0.4191\n",
      "1875/1875 [==============================] - 2s 1ms/step - loss: 2.3026 - accuracy: 0.4191\n"
     ]
    },
    {
     "data": {
      "text/plain": [
       "[2.3025569915771484, 0.41911667585372925]"
      ]
     },
     "execution_count": 127,
     "metadata": {},
     "output_type": "execute_result"
    }
   ],
   "source": [
    "#The network architecture\n",
    "from tensorflow import keras\n",
    "from tensorflow.keras import layers\n",
    "model = keras.Sequential([\n",
    "    keras.Input(28*28),\n",
    "    keras.layers.Dense(100), \n",
    "    #overhere\n",
    "    keras.layers.Dense(100), \n",
    "    keras.layers.Dense(10)\n",
    "])\n",
    "#The compilation step\n",
    "model.compile(\n",
    "    optimizer=\"rmsprop\",\n",
    "    loss='sparse_categorical_crossentropy',\n",
    "    metrics= ['accuracy'])\n",
    "model.summary()\n",
    "#“Fitting”the model\n",
    "model.fit(x_train_normalize, y_train_labels, \n",
    "           epochs= 10, \n",
    "           batch_size= 100)\n",
    "# model test : (loss,accuracy)\n",
    "model.evaluate(x_train_normalize, y_train_labels)"
   ]
  },
  {
   "cell_type": "markdown",
   "id": "1af6a81b",
   "metadata": {},
   "source": [
    "## 準確率提高到41%"
   ]
  },
  {
   "cell_type": "markdown",
   "id": "e2c2d294",
   "metadata": {},
   "source": [
    "# test2修改optimizer->adam"
   ]
  },
  {
   "cell_type": "code",
   "execution_count": 128,
   "id": "810f3ee1",
   "metadata": {},
   "outputs": [
    {
     "name": "stdout",
     "output_type": "stream",
     "text": [
      "Model: \"sequential_57\"\n",
      "_________________________________________________________________\n",
      " Layer (type)                Output Shape              Param #   \n",
      "=================================================================\n",
      " dense_119 (Dense)           (None, 100)               78500     \n",
      "                                                                 \n",
      " dense_120 (Dense)           (None, 100)               10100     \n",
      "                                                                 \n",
      " dense_121 (Dense)           (None, 10)                1010      \n",
      "                                                                 \n",
      "=================================================================\n",
      "Total params: 89,610\n",
      "Trainable params: 89,610\n",
      "Non-trainable params: 0\n",
      "_________________________________________________________________\n",
      "Epoch 1/10\n",
      "600/600 [==============================] - 1s 2ms/step - loss: 1.8996 - accuracy: 0.3922\n",
      "Epoch 2/10\n",
      "600/600 [==============================] - 1s 2ms/step - loss: 1.8378 - accuracy: 0.5197\n",
      "Epoch 3/10\n",
      "600/600 [==============================] - 1s 2ms/step - loss: 2.2968 - accuracy: 0.4443\n",
      "Epoch 4/10\n",
      "600/600 [==============================] - 1s 2ms/step - loss: 2.2983 - accuracy: 0.3930\n",
      "Epoch 5/10\n",
      "600/600 [==============================] - 1s 2ms/step - loss: 2.2985 - accuracy: 0.3858\n",
      "Epoch 6/10\n",
      "600/600 [==============================] - 1s 2ms/step - loss: 2.2989 - accuracy: 0.3828\n",
      "Epoch 7/10\n",
      "600/600 [==============================] - 1s 2ms/step - loss: 2.2993 - accuracy: 0.3760\n",
      "Epoch 8/10\n",
      "600/600 [==============================] - 1s 2ms/step - loss: 2.2997 - accuracy: 0.3381\n",
      "Epoch 9/10\n",
      "600/600 [==============================] - 1s 2ms/step - loss: 2.2987 - accuracy: 0.3261\n",
      "Epoch 10/10\n",
      "600/600 [==============================] - 1s 2ms/step - loss: 2.2953 - accuracy: 0.3756\n",
      "1875/1875 [==============================] - 2s 1ms/step - loss: 2.3012 - accuracy: 0.4435\n"
     ]
    },
    {
     "data": {
      "text/plain": [
       "[2.3011770248413086, 0.44351667165756226]"
      ]
     },
     "execution_count": 128,
     "metadata": {},
     "output_type": "execute_result"
    }
   ],
   "source": [
    "#The network architecture\n",
    "from tensorflow import keras\n",
    "from tensorflow.keras import layers\n",
    "model = keras.Sequential([\n",
    "    keras.Input(28*28),\n",
    "    keras.layers.Dense(100), \n",
    "    keras.layers.Dense(100), \n",
    "    keras.layers.Dense(10)\n",
    "])\n",
    "#The compilation step\n",
    "model.compile(\n",
    "    #overhere\n",
    "    optimizer=\"adam\",\n",
    "    loss='sparse_categorical_crossentropy',\n",
    "    metrics= ['accuracy'])\n",
    "model.summary()\n",
    "#“Fitting”the model\n",
    "model.fit(x_train_normalize, y_train_labels, \n",
    "           epochs= 10, \n",
    "           batch_size= 100)\n",
    "# model test : (loss,accuracy)\n",
    "model.evaluate(x_train_normalize, y_train_labels)"
   ]
  },
  {
   "cell_type": "markdown",
   "id": "f2a88257",
   "metadata": {},
   "source": [
    "## 準確率:44% "
   ]
  },
  {
   "cell_type": "markdown",
   "id": "7727f251",
   "metadata": {},
   "source": [
    "## test3 output layer active function: sigmoid"
   ]
  },
  {
   "cell_type": "code",
   "execution_count": 131,
   "id": "7a69ec39",
   "metadata": {},
   "outputs": [
    {
     "name": "stdout",
     "output_type": "stream",
     "text": [
      "Model: \"sequential_59\"\n",
      "_________________________________________________________________\n",
      " Layer (type)                Output Shape              Param #   \n",
      "=================================================================\n",
      " dense_125 (Dense)           (None, 100)               78500     \n",
      "                                                                 \n",
      " dense_126 (Dense)           (None, 100)               10100     \n",
      "                                                                 \n",
      " dense_127 (Dense)           (None, 10)                1010      \n",
      "                                                                 \n",
      "=================================================================\n",
      "Total params: 89,610\n",
      "Trainable params: 89,610\n",
      "Non-trainable params: 0\n",
      "_________________________________________________________________\n",
      "Epoch 1/10\n",
      "600/600 [==============================] - 1s 2ms/step - loss: 0.3824 - accuracy: 0.8901\n",
      "Epoch 2/10\n",
      "600/600 [==============================] - 1s 2ms/step - loss: 0.2964 - accuracy: 0.9170\n",
      "Epoch 3/10\n",
      "600/600 [==============================] - 1s 2ms/step - loss: 0.2896 - accuracy: 0.9192\n",
      "Epoch 4/10\n",
      "600/600 [==============================] - 1s 2ms/step - loss: 0.2831 - accuracy: 0.9212\n",
      "Epoch 5/10\n",
      "600/600 [==============================] - 1s 2ms/step - loss: 0.2781 - accuracy: 0.9222\n",
      "Epoch 6/10\n",
      "600/600 [==============================] - 1s 2ms/step - loss: 0.2738 - accuracy: 0.9232\n",
      "Epoch 7/10\n",
      "600/600 [==============================] - 1s 2ms/step - loss: 0.2712 - accuracy: 0.9233\n",
      "Epoch 8/10\n",
      "600/600 [==============================] - 1s 2ms/step - loss: 0.2675 - accuracy: 0.9252\n",
      "Epoch 9/10\n",
      "600/600 [==============================] - 1s 2ms/step - loss: 0.2669 - accuracy: 0.9256\n",
      "Epoch 10/10\n",
      "600/600 [==============================] - 1s 2ms/step - loss: 0.2645 - accuracy: 0.9261\n",
      "1875/1875 [==============================] - 2s 1ms/step - loss: 0.2485 - accuracy: 0.9309\n"
     ]
    },
    {
     "data": {
      "text/plain": [
       "[0.24854470789432526, 0.9308666586875916]"
      ]
     },
     "execution_count": 131,
     "metadata": {},
     "output_type": "execute_result"
    }
   ],
   "source": [
    "#The network architecture\n",
    "from tensorflow import keras\n",
    "from tensorflow.keras import layers\n",
    "model = keras.Sequential([\n",
    "    keras.Input(28*28),\n",
    "    keras.layers.Dense(100), \n",
    "    keras.layers.Dense(100), \n",
    "    keras.layers.Dense(10,activation= 'sigmoid')\n",
    "])\n",
    "#The compilation step\n",
    "model.compile(\n",
    "    #overhere\n",
    "    optimizer=\"adam\",\n",
    "    #\n",
    "    loss='sparse_categorical_crossentropy',\n",
    "    metrics= ['accuracy'])\n",
    "model.summary()\n",
    "#“Fitting”the model\n",
    "model.fit(x_train_normalize, y_train_labels, \n",
    "           epochs= 10, \n",
    "           batch_size= 100)\n",
    "# model test : (loss,accuracy)\n",
    "model.evaluate(x_train_normalize, y_train_labels)"
   ]
  },
  {
   "cell_type": "markdown",
   "id": "1e235daf",
   "metadata": {},
   "source": [
    "## 準確率:93%"
   ]
  },
  {
   "cell_type": "markdown",
   "id": "b05a4cad",
   "metadata": {},
   "source": [
    "# test4 label one-hot encoding"
   ]
  },
  {
   "cell_type": "code",
   "execution_count": 132,
   "id": "f993a3f6",
   "metadata": {},
   "outputs": [
    {
     "name": "stdout",
     "output_type": "stream",
     "text": [
      "Model: \"sequential_60\"\n",
      "_________________________________________________________________\n",
      " Layer (type)                Output Shape              Param #   \n",
      "=================================================================\n",
      " dense_128 (Dense)           (None, 100)               78500     \n",
      "                                                                 \n",
      " dense_129 (Dense)           (None, 100)               10100     \n",
      "                                                                 \n",
      " dense_130 (Dense)           (None, 10)                1010      \n",
      "                                                                 \n",
      "=================================================================\n",
      "Total params: 89,610\n",
      "Trainable params: 89,610\n",
      "Non-trainable params: 0\n",
      "_________________________________________________________________\n",
      "Epoch 1/10\n",
      "600/600 [==============================] - 2s 2ms/step - loss: 0.3751 - accuracy: 0.8931\n",
      "Epoch 2/10\n",
      "600/600 [==============================] - 1s 2ms/step - loss: 0.2982 - accuracy: 0.9164\n",
      "Epoch 3/10\n",
      "600/600 [==============================] - 1s 2ms/step - loss: 0.2878 - accuracy: 0.9196\n",
      "Epoch 4/10\n",
      "600/600 [==============================] - 1s 2ms/step - loss: 0.2804 - accuracy: 0.9212\n",
      "Epoch 5/10\n",
      "600/600 [==============================] - 1s 2ms/step - loss: 0.2768 - accuracy: 0.9224\n",
      "Epoch 6/10\n",
      "600/600 [==============================] - 1s 2ms/step - loss: 0.2733 - accuracy: 0.9235\n",
      "Epoch 7/10\n",
      "600/600 [==============================] - 1s 2ms/step - loss: 0.2710 - accuracy: 0.9239\n",
      "Epoch 8/10\n",
      "600/600 [==============================] - 1s 2ms/step - loss: 0.2707 - accuracy: 0.9247\n",
      "Epoch 9/10\n",
      "600/600 [==============================] - 1s 2ms/step - loss: 0.2660 - accuracy: 0.9260\n",
      "Epoch 10/10\n",
      "600/600 [==============================] - 1s 2ms/step - loss: 0.2650 - accuracy: 0.9248\n",
      "1875/1875 [==============================] - 2s 1ms/step - loss: 0.2477 - accuracy: 0.9295\n"
     ]
    },
    {
     "data": {
      "text/plain": [
       "[0.24765031039714813, 0.9295333623886108]"
      ]
     },
     "execution_count": 132,
     "metadata": {},
     "output_type": "execute_result"
    }
   ],
   "source": [
    "#one-hot encoding\n",
    "from tensorflow.keras import utils\n",
    "y_train_onehot = utils.to_categorical(y_train_labels)\n",
    "y_test_onehot = utils.to_categorical(y_test_labels)\n",
    "\n",
    "#The network architecture\n",
    "from tensorflow import keras\n",
    "from tensorflow.keras import layers\n",
    "model = keras.Sequential([\n",
    "    keras.Input(28*28),\n",
    "    keras.layers.Dense(100), \n",
    "    keras.layers.Dense(100), \n",
    "    keras.layers.Dense(10,activation= 'sigmoid')\n",
    "])\n",
    "#The compilation step\n",
    "model.compile(\n",
    "    #overhere\n",
    "    optimizer=\"adam\",\n",
    "    #loss must be categorical_crossentropy\n",
    "    loss='categorical_crossentropy',\n",
    "    metrics= ['accuracy'])\n",
    "model.summary()\n",
    "#“Fitting”the model\n",
    "model.fit(x_train_normalize, y_train_onehot, \n",
    "           epochs= 10, \n",
    "           batch_size= 100)\n",
    "# model test : (loss,accuracy)\n",
    "model.evaluate(x_train_normalize, y_train_onehot)"
   ]
  },
  {
   "cell_type": "markdown",
   "id": "d6bfa594",
   "metadata": {},
   "source": [
    "## 準確率:92.9%沒什麼特別大的變化"
   ]
  },
  {
   "cell_type": "markdown",
   "id": "d0bdf987",
   "metadata": {},
   "source": [
    "# test5 batch size 100 -> 200"
   ]
  },
  {
   "cell_type": "code",
   "execution_count": 134,
   "id": "dc64af7f",
   "metadata": {},
   "outputs": [
    {
     "name": "stdout",
     "output_type": "stream",
     "text": [
      "Model: \"sequential_62\"\n",
      "_________________________________________________________________\n",
      " Layer (type)                Output Shape              Param #   \n",
      "=================================================================\n",
      " dense_134 (Dense)           (None, 100)               78500     \n",
      "                                                                 \n",
      " dense_135 (Dense)           (None, 100)               10100     \n",
      "                                                                 \n",
      " dense_136 (Dense)           (None, 10)                1010      \n",
      "                                                                 \n",
      "=================================================================\n",
      "Total params: 89,610\n",
      "Trainable params: 89,610\n",
      "Non-trainable params: 0\n",
      "_________________________________________________________________\n",
      "Epoch 1/10\n",
      "300/300 [==============================] - 3s 2ms/step - loss: 0.4064 - accuracy: 0.8830\n",
      "Epoch 2/10\n",
      "300/300 [==============================] - 1s 2ms/step - loss: 0.2922 - accuracy: 0.9171\n",
      "Epoch 3/10\n",
      "300/300 [==============================] - 1s 2ms/step - loss: 0.2813 - accuracy: 0.9217\n",
      "Epoch 4/10\n",
      "300/300 [==============================] - 1s 2ms/step - loss: 0.2765 - accuracy: 0.9223\n",
      "Epoch 5/10\n",
      "300/300 [==============================] - 1s 2ms/step - loss: 0.2709 - accuracy: 0.9241\n",
      "Epoch 6/10\n",
      "300/300 [==============================] - 1s 2ms/step - loss: 0.2677 - accuracy: 0.9251\n",
      "Epoch 7/10\n",
      "300/300 [==============================] - 1s 2ms/step - loss: 0.2652 - accuracy: 0.9254\n",
      "Epoch 8/10\n",
      "300/300 [==============================] - 1s 2ms/step - loss: 0.2636 - accuracy: 0.9261\n",
      "Epoch 9/10\n",
      "300/300 [==============================] - 1s 2ms/step - loss: 0.2598 - accuracy: 0.9270\n",
      "Epoch 10/10\n",
      "300/300 [==============================] - 1s 2ms/step - loss: 0.2627 - accuracy: 0.9267\n",
      "1875/1875 [==============================] - 2s 1ms/step - loss: 0.2476 - accuracy: 0.9303\n"
     ]
    },
    {
     "data": {
      "text/plain": [
       "[0.24761687219142914, 0.9302833080291748]"
      ]
     },
     "execution_count": 134,
     "metadata": {},
     "output_type": "execute_result"
    }
   ],
   "source": [
    "#one-hot encoding\n",
    "from tensorflow.keras import utils\n",
    "y_train_onehot = utils.to_categorical(y_train_labels)\n",
    "y_test_onehot = utils.to_categorical(y_test_labels)\n",
    "\n",
    "#The network architecture\n",
    "from tensorflow import keras\n",
    "from tensorflow.keras import layers\n",
    "model = keras.Sequential([\n",
    "    keras.Input(28*28),\n",
    "    keras.layers.Dense(100), \n",
    "    keras.layers.Dense(100), \n",
    "    keras.layers.Dense(10,activation= 'sigmoid')\n",
    "])\n",
    "#The compilation step\n",
    "model.compile(\n",
    "    #overhere\n",
    "    optimizer=\"adam\",\n",
    "    #loss must be categorical_crossentropy\n",
    "    loss='categorical_crossentropy',\n",
    "    metrics= ['accuracy'])\n",
    "model.summary()\n",
    "#“Fitting”the model\n",
    "model.fit(x_train_normalize, y_train_onehot, \n",
    "           epochs= 10, \n",
    "           batch_size= 200)\n",
    "# model test : (loss,accuracy)\n",
    "model.evaluate(x_train_normalize, y_train_onehot)"
   ]
  },
  {
   "cell_type": "markdown",
   "id": "40916f9b",
   "metadata": {},
   "source": [
    "## 準確率:93%沒什麼特別大的變化"
   ]
  },
  {
   "cell_type": "markdown",
   "id": "d4159ea8",
   "metadata": {},
   "source": [
    "# test6 Dense add activation function relu"
   ]
  },
  {
   "cell_type": "code",
   "execution_count": 136,
   "id": "8ea461e9",
   "metadata": {},
   "outputs": [
    {
     "name": "stdout",
     "output_type": "stream",
     "text": [
      "Model: \"sequential_63\"\n",
      "_________________________________________________________________\n",
      " Layer (type)                Output Shape              Param #   \n",
      "=================================================================\n",
      " dense_137 (Dense)           (None, 100)               78500     \n",
      "                                                                 \n",
      " dense_138 (Dense)           (None, 100)               10100     \n",
      "                                                                 \n",
      " dense_139 (Dense)           (None, 10)                1010      \n",
      "                                                                 \n",
      "=================================================================\n",
      "Total params: 89,610\n",
      "Trainable params: 89,610\n",
      "Non-trainable params: 0\n",
      "_________________________________________________________________\n",
      "Epoch 1/10\n",
      "300/300 [==============================] - 1s 3ms/step - loss: 0.3878 - accuracy: 0.8912\n",
      "Epoch 2/10\n",
      "300/300 [==============================] - 1s 2ms/step - loss: 0.1544 - accuracy: 0.9542\n",
      "Epoch 3/10\n",
      "300/300 [==============================] - 1s 2ms/step - loss: 0.1112 - accuracy: 0.9676\n",
      "Epoch 4/10\n",
      "300/300 [==============================] - 1s 2ms/step - loss: 0.0864 - accuracy: 0.9743\n",
      "Epoch 5/10\n",
      "300/300 [==============================] - 1s 2ms/step - loss: 0.0693 - accuracy: 0.9795\n",
      "Epoch 6/10\n",
      "300/300 [==============================] - 1s 2ms/step - loss: 0.0578 - accuracy: 0.9824\n",
      "Epoch 7/10\n",
      "300/300 [==============================] - 1s 2ms/step - loss: 0.0477 - accuracy: 0.9854\n",
      "Epoch 8/10\n",
      "300/300 [==============================] - 1s 2ms/step - loss: 0.0381 - accuracy: 0.9882\n",
      "Epoch 9/10\n",
      "300/300 [==============================] - 1s 2ms/step - loss: 0.0326 - accuracy: 0.9900\n",
      "Epoch 10/10\n",
      "300/300 [==============================] - 1s 2ms/step - loss: 0.0288 - accuracy: 0.9912\n",
      "1875/1875 [==============================] - 2s 1ms/step - loss: 0.0317 - accuracy: 0.9903\n"
     ]
    },
    {
     "data": {
      "text/plain": [
       "[0.0316920131444931, 0.9902833104133606]"
      ]
     },
     "execution_count": 136,
     "metadata": {},
     "output_type": "execute_result"
    }
   ],
   "source": [
    "#one-hot encoding\n",
    "from tensorflow.keras import utils\n",
    "y_train_onehot = utils.to_categorical(y_train_labels)\n",
    "y_test_onehot = utils.to_categorical(y_test_labels)\n",
    "\n",
    "#The network architecture\n",
    "from tensorflow import keras\n",
    "from tensorflow.keras import layers\n",
    "model = keras.Sequential([\n",
    "    keras.Input(28*28),\n",
    "    keras.layers.Dense(100,activation= 'relu'), \n",
    "    keras.layers.Dense(100,activation= 'relu'), \n",
    "    keras.layers.Dense(10,activation= 'sigmoid')\n",
    "])\n",
    "#The compilation step\n",
    "model.compile(\n",
    "    #overhere\n",
    "    optimizer=\"adam\",\n",
    "    #loss must be categorical_crossentropy\n",
    "    loss='categorical_crossentropy',\n",
    "    metrics= ['accuracy'])\n",
    "model.summary()\n",
    "#“Fitting”the model\n",
    "model.fit(x_train_normalize, y_train_onehot, \n",
    "           epochs= 10, \n",
    "           batch_size= 200)\n",
    "# model test : (loss,accuracy)\n",
    "model.evaluate(x_train_normalize, y_train_onehot)"
   ]
  },
  {
   "cell_type": "markdown",
   "id": "212b754a",
   "metadata": {},
   "source": [
    "## 準確率:99% 有點誇張"
   ]
  },
  {
   "cell_type": "code",
   "execution_count": null,
   "id": "e4f2d592",
   "metadata": {},
   "outputs": [],
   "source": []
  }
 ],
 "metadata": {
  "kernelspec": {
   "display_name": "Python 3 (ipykernel)",
   "language": "python",
   "name": "python3"
  },
  "language_info": {
   "codemirror_mode": {
    "name": "ipython",
    "version": 3
   },
   "file_extension": ".py",
   "mimetype": "text/x-python",
   "name": "python",
   "nbconvert_exporter": "python",
   "pygments_lexer": "ipython3",
   "version": "3.8.8"
  },
  "toc": {
   "base_numbering": 1,
   "nav_menu": {},
   "number_sections": true,
   "sideBar": true,
   "skip_h1_title": false,
   "title_cell": "Table of Contents",
   "title_sidebar": "Contents",
   "toc_cell": false,
   "toc_position": {},
   "toc_section_display": true,
   "toc_window_display": false
  }
 },
 "nbformat": 4,
 "nbformat_minor": 5
}

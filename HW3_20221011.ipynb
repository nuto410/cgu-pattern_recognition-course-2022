{
  "cells": [
    {
      "cell_type": "markdown",
      "id": "e496dd1e",
      "metadata": {
        "id": "e496dd1e"
      },
      "source": [
        "# Introduction to Keras and TensorFlow"
      ]
    },
    {
      "cell_type": "markdown",
      "id": "11c46f70",
      "metadata": {
        "id": "11c46f70"
      },
      "source": [
        "## 3.1 all ones or all zeros tensors"
      ]
    },
    {
      "cell_type": "code",
      "execution_count": 3,
      "id": "81230c97",
      "metadata": {
        "id": "81230c97"
      },
      "outputs": [],
      "source": [
        "# 匯入Tensorflow套件\n",
        "import tensorflow as tf"
      ]
    },
    {
      "cell_type": "code",
      "execution_count": 4,
      "id": "945cd626",
      "metadata": {
        "colab": {
          "base_uri": "https://localhost:8080/"
        },
        "id": "945cd626",
        "outputId": "87982f91-c582-49dd-b17c-77c6aba082ce"
      },
      "outputs": [
        {
          "output_type": "stream",
          "name": "stdout",
          "text": [
            "tf.Tensor(\n",
            "[[1.]\n",
            " [1.]], shape=(2, 1), dtype=float32)\n"
          ]
        }
      ],
      "source": [
        "# all ones Tensor\n",
        "x = tf.ones(shape=(2,1))\n",
        "print(x)"
      ]
    },
    {
      "cell_type": "code",
      "execution_count": 5,
      "id": "cc542f5c",
      "metadata": {
        "colab": {
          "base_uri": "https://localhost:8080/"
        },
        "id": "cc542f5c",
        "outputId": "7e48d9f9-36b9-46a0-9ebe-0dbd6488da5f"
      },
      "outputs": [
        {
          "output_type": "stream",
          "name": "stdout",
          "text": [
            "tf.Tensor(\n",
            "[[0.]\n",
            " [0.]], shape=(2, 1), dtype=float32)\n"
          ]
        }
      ],
      "source": [
        "# all zeros Tensor\n",
        "x = tf.zeros(shape=(2,1))\n",
        "print(x)"
      ]
    },
    {
      "cell_type": "markdown",
      "id": "738463d5",
      "metadata": {
        "id": "738463d5"
      },
      "source": [
        "## 3.2 Random tensors"
      ]
    },
    {
      "cell_type": "code",
      "execution_count": 6,
      "id": "73ef00bc",
      "metadata": {
        "colab": {
          "base_uri": "https://localhost:8080/"
        },
        "id": "73ef00bc",
        "outputId": "783e8eef-6386-42e2-a6cd-5eb0467f3478"
      },
      "outputs": [
        {
          "output_type": "stream",
          "name": "stdout",
          "text": [
            "tf.Tensor(\n",
            "[[-1.0521284]\n",
            " [ 0.0946827]\n",
            " [-0.3372142]], shape=(3, 1), dtype=float32)\n"
          ]
        }
      ],
      "source": [
        "#create a random normal distribution\n",
        "#mean: the mean of normal distribution\n",
        "#stddev:The standard deviation of the normal distribution.\n",
        "x = tf.random.normal(shape=(3,1), mean=0., stddev=1.)\n",
        "# help(tf.random.normal)\n",
        "print(x)"
      ]
    },
    {
      "cell_type": "code",
      "execution_count": 7,
      "id": "e3cfa2f6",
      "metadata": {
        "colab": {
          "base_uri": "https://localhost:8080/"
        },
        "id": "e3cfa2f6",
        "outputId": "3c3303fa-0f2e-45cd-99fd-3fb7e9559bb7"
      },
      "outputs": [
        {
          "output_type": "stream",
          "name": "stdout",
          "text": [
            "tf.Tensor(\n",
            "[[0.70439136]\n",
            " [0.48481607]\n",
            " [0.32361794]\n",
            " [0.64304805]\n",
            " [0.89710426]\n",
            " [0.4782064 ]\n",
            " [0.7873416 ]\n",
            " [0.04673707]\n",
            " [0.03517616]\n",
            " [0.9074671 ]], shape=(10, 1), dtype=float32)\n"
          ]
        }
      ],
      "source": [
        "#create a random uniform list\n",
        "#uniform均勻\n",
        "#minval:the min range of random uniform distribution\n",
        "#maxval:the max range of random uniform distribution\n",
        "x = tf.random.uniform(shape=(10,1), minval=0., maxval=1.)\n",
        "# help(tf.random.uniform)\n",
        "print(x)"
      ]
    },
    {
      "cell_type": "markdown",
      "id": "bf6f0ec6",
      "metadata": {
        "id": "bf6f0ec6"
      },
      "source": [
        "## 3.3 NumPy arrays are assignable"
      ]
    },
    {
      "cell_type": "code",
      "execution_count": 8,
      "id": "f347ffe1",
      "metadata": {
        "id": "f347ffe1"
      },
      "outputs": [],
      "source": [
        "# You can specify a number to numpy array\n",
        "import numpy as np\n",
        "x = np.ones(shape=(2,2))\n",
        "x[0,0]=0"
      ]
    },
    {
      "cell_type": "markdown",
      "id": "bc52ae01",
      "metadata": {
        "id": "bc52ae01"
      },
      "source": [
        "## 3.4 TensorFlow tensors are not assignable"
      ]
    },
    {
      "cell_type": "code",
      "execution_count": 9,
      "id": "0c440ad2",
      "metadata": {
        "colab": {
          "base_uri": "https://localhost:8080/",
          "height": 227
        },
        "id": "0c440ad2",
        "outputId": "f0583f13-1b46-4b08-d417-f23c2542187a"
      },
      "outputs": [
        {
          "output_type": "error",
          "ename": "TypeError",
          "evalue": "ignored",
          "traceback": [
            "\u001b[0;31m---------------------------------------------------------------------------\u001b[0m",
            "\u001b[0;31mTypeError\u001b[0m                                 Traceback (most recent call last)",
            "\u001b[0;32m<ipython-input-9-adc300b14f4c>\u001b[0m in \u001b[0;36m<module>\u001b[0;34m\u001b[0m\n\u001b[1;32m      1\u001b[0m \u001b[0;31m# But you can't on Tensors.\u001b[0m\u001b[0;34m\u001b[0m\u001b[0;34m\u001b[0m\u001b[0;34m\u001b[0m\u001b[0m\n\u001b[1;32m      2\u001b[0m \u001b[0mx\u001b[0m \u001b[0;34m=\u001b[0m \u001b[0mtf\u001b[0m\u001b[0;34m.\u001b[0m\u001b[0mones\u001b[0m\u001b[0;34m(\u001b[0m\u001b[0mshape\u001b[0m\u001b[0;34m=\u001b[0m\u001b[0;34m(\u001b[0m\u001b[0;36m2\u001b[0m\u001b[0;34m,\u001b[0m\u001b[0;36m2\u001b[0m\u001b[0;34m)\u001b[0m\u001b[0;34m)\u001b[0m\u001b[0;34m\u001b[0m\u001b[0;34m\u001b[0m\u001b[0m\n\u001b[0;32m----> 3\u001b[0;31m \u001b[0mx\u001b[0m\u001b[0;34m[\u001b[0m\u001b[0;36m0\u001b[0m\u001b[0;34m,\u001b[0m\u001b[0;36m0\u001b[0m\u001b[0;34m]\u001b[0m\u001b[0;34m=\u001b[0m\u001b[0;36m0\u001b[0m\u001b[0;34m\u001b[0m\u001b[0;34m\u001b[0m\u001b[0m\n\u001b[0m",
            "\u001b[0;31mTypeError\u001b[0m: 'tensorflow.python.framework.ops.EagerTensor' object does not support item assignment"
          ]
        }
      ],
      "source": [
        "# But you can't on Tensors.\n",
        "x = tf.ones(shape=(2,2))\n",
        "x[0,0]=0"
      ]
    },
    {
      "cell_type": "markdown",
      "id": "14a30f41",
      "metadata": {
        "id": "14a30f41"
      },
      "source": [
        "## 3.5 Creating a TensorFlow variable"
      ]
    },
    {
      "cell_type": "code",
      "execution_count": 10,
      "id": "6484829d",
      "metadata": {
        "id": "6484829d"
      },
      "outputs": [],
      "source": [
        "# You can assign by Tensorflow variable."
      ]
    },
    {
      "cell_type": "code",
      "execution_count": 11,
      "id": "94d5f0f6",
      "metadata": {
        "colab": {
          "base_uri": "https://localhost:8080/"
        },
        "id": "94d5f0f6",
        "outputId": "b8706d95-157f-4e0b-e796-96b7d0479119"
      },
      "outputs": [
        {
          "output_type": "stream",
          "name": "stdout",
          "text": [
            "<tf.Variable 'Variable:0' shape=(3, 1) dtype=float32, numpy=\n",
            "array([[ 0.5680217 ],\n",
            "       [-0.12458444],\n",
            "       [ 0.8039118 ]], dtype=float32)>\n"
          ]
        }
      ],
      "source": [
        "v = tf.Variable(initial_value=tf.random.normal(shape=(3, 1)))\n",
        "print(v)"
      ]
    },
    {
      "cell_type": "markdown",
      "id": "18c98a89",
      "metadata": {
        "id": "18c98a89"
      },
      "source": [
        "## 3.6 Assigning a value to a TensorFlow variable"
      ]
    },
    {
      "cell_type": "code",
      "execution_count": 12,
      "id": "03e23467",
      "metadata": {
        "colab": {
          "base_uri": "https://localhost:8080/"
        },
        "id": "03e23467",
        "outputId": "576d30d5-7688-4139-bd47-d9f553a7895b"
      },
      "outputs": [
        {
          "output_type": "execute_result",
          "data": {
            "text/plain": [
              "<tf.Variable 'UnreadVariable' shape=(3, 1) dtype=float32, numpy=\n",
              "array([[1.],\n",
              "       [1.],\n",
              "       [1.]], dtype=float32)>"
            ]
          },
          "metadata": {},
          "execution_count": 12
        }
      ],
      "source": [
        "v.assign(tf.ones((3, 1)))"
      ]
    },
    {
      "cell_type": "markdown",
      "id": "5be0ecb9",
      "metadata": {
        "id": "5be0ecb9"
      },
      "source": [
        "## 3.7 Assigning a value to a subset of a TensorFlowvariable"
      ]
    },
    {
      "cell_type": "code",
      "execution_count": 13,
      "id": "0c9eeac4",
      "metadata": {
        "colab": {
          "base_uri": "https://localhost:8080/"
        },
        "id": "0c9eeac4",
        "outputId": "f95f219c-fc7a-410b-9457-77d9241848cf"
      },
      "outputs": [
        {
          "output_type": "execute_result",
          "data": {
            "text/plain": [
              "<tf.Variable 'UnreadVariable' shape=(3, 1) dtype=float32, numpy=\n",
              "array([[3.],\n",
              "       [1.],\n",
              "       [1.]], dtype=float32)>"
            ]
          },
          "metadata": {},
          "execution_count": 13
        }
      ],
      "source": [
        "v[0,0].assign(3.)"
      ]
    },
    {
      "cell_type": "markdown",
      "id": "ee6e9f81",
      "metadata": {
        "id": "ee6e9f81"
      },
      "source": [
        "## 3.8 Using assign_add()"
      ]
    },
    {
      "cell_type": "code",
      "execution_count": 14,
      "id": "e9b5e58f",
      "metadata": {
        "colab": {
          "base_uri": "https://localhost:8080/"
        },
        "id": "e9b5e58f",
        "outputId": "e47df84e-bddb-4268-8e29-629dcae81eae"
      },
      "outputs": [
        {
          "output_type": "execute_result",
          "data": {
            "text/plain": [
              "<tf.Variable 'UnreadVariable' shape=(3, 1) dtype=float32, numpy=\n",
              "array([[4.],\n",
              "       [2.],\n",
              "       [2.]], dtype=float32)>"
            ]
          },
          "metadata": {},
          "execution_count": 14
        }
      ],
      "source": [
        "# assign_add +=\n",
        "v.assign_add(tf.ones((3,1)))"
      ]
    },
    {
      "cell_type": "code",
      "execution_count": 15,
      "id": "53c8225e",
      "metadata": {
        "colab": {
          "base_uri": "https://localhost:8080/"
        },
        "id": "53c8225e",
        "outputId": "0f53cc0e-88d1-4e0c-a6fc-d858bc307b74"
      },
      "outputs": [
        {
          "output_type": "execute_result",
          "data": {
            "text/plain": [
              "<tf.Variable 'UnreadVariable' shape=(3, 1) dtype=float32, numpy=\n",
              "array([[3.],\n",
              "       [1.],\n",
              "       [1.]], dtype=float32)>"
            ]
          },
          "metadata": {},
          "execution_count": 15
        }
      ],
      "source": [
        "#assign_sub -=\n",
        "v.assign_sub(tf.ones((3,1)))"
      ]
    },
    {
      "cell_type": "markdown",
      "id": "0da872ce",
      "metadata": {
        "id": "0da872ce"
      },
      "source": [
        "## 3.9 A few basic math operations"
      ]
    },
    {
      "cell_type": "code",
      "execution_count": 16,
      "id": "a3bf9bb8",
      "metadata": {
        "id": "a3bf9bb8"
      },
      "outputs": [],
      "source": [
        "a = tf.ones((2, 2)) # [[1,1][1,1]]\n",
        "b = tf.square(a) #[[1,1][1,1]]\n",
        "c = tf.sqrt(a) #[[1,1][1,1]]\n",
        "d = b + c # [2,2][2,2]\n",
        "e = tf.matmul(a, b) #矩陣乘法 [[2,2][2,2]]\n",
        "e *= d #[[4,4][4,4]]"
      ]
    },
    {
      "cell_type": "markdown",
      "id": "d38ed764",
      "metadata": {
        "id": "d38ed764"
      },
      "source": [
        "## 3.10 Using the GradientTape"
      ]
    },
    {
      "cell_type": "code",
      "execution_count": 17,
      "id": "99931041",
      "metadata": {
        "id": "99931041"
      },
      "outputs": [],
      "source": [
        "input_var = tf.Variable(initial_value=3.)\n",
        "with tf.GradientTape() as tape:\n",
        "    result = tf.square(input_var)\n",
        "gradient = tape.gradient(result, input_var) # gradient = tape.gradient(loss , weight)"
      ]
    },
    {
      "cell_type": "markdown",
      "id": "8b8daac0",
      "metadata": {
        "id": "8b8daac0"
      },
      "source": [
        "## 3.11 Using GradientTape with constant tensorinputs"
      ]
    },
    {
      "cell_type": "code",
      "execution_count": 18,
      "id": "c68a3c4a",
      "metadata": {
        "id": "c68a3c4a"
      },
      "outputs": [],
      "source": [
        "input_const = tf.constant(3.) # To avoid waste much space on some constantly variable\n",
        "with tf.GradientTape() as tape:\n",
        "    tape.watch(input_const)\n",
        "    result = tf.square(input_const)\n",
        "gradient = tape.gradient(result, input_const)"
      ]
    },
    {
      "cell_type": "markdown",
      "id": "5d08ff61",
      "metadata": {
        "id": "5d08ff61"
      },
      "source": [
        "## 3.12 Using nested gradient tapes to computesecond-order gradients"
      ]
    },
    {
      "cell_type": "code",
      "execution_count": 19,
      "id": "d48ab5ba",
      "metadata": {
        "colab": {
          "base_uri": "https://localhost:8080/"
        },
        "id": "d48ab5ba",
        "outputId": "7005411b-7d9d-4c85-d54e-f4eec5556b4a"
      },
      "outputs": [
        {
          "output_type": "stream",
          "name": "stdout",
          "text": [
            "tf.Tensor(0.0, shape=(), dtype=float32)\n",
            "tf.Tensor(0.0, shape=(), dtype=float32)\n",
            "tf.Tensor(9.8, shape=(), dtype=float32)\n"
          ]
        }
      ],
      "source": [
        "time = tf.Variable(0.)\n",
        "with tf.GradientTape() as outer_tape:\n",
        "    with tf.GradientTape() as inner_tape:\n",
        "        position=4.9*time**2\n",
        "    speed = inner_tape.gradient(position,time)\n",
        "acceleration = outer_tape.gradient(speed,time)\n",
        "print(position)\n",
        "print(speed)\n",
        "print(acceleration)"
      ]
    },
    {
      "cell_type": "markdown",
      "id": "7a293ce1",
      "metadata": {
        "id": "7a293ce1"
      },
      "source": [
        "## 3.13 Generating two classes of random points in a 2D plane"
      ]
    },
    {
      "cell_type": "code",
      "execution_count": 20,
      "id": "4e323f6d",
      "metadata": {
        "id": "4e323f6d"
      },
      "outputs": [],
      "source": [
        "import numpy as np\n",
        "num_samples_per_class=1000\n",
        "negative_samples=np.random.multivariate_normal(\n",
        "    mean=[0, 3],\n",
        "    cov=[[1, 0.5],[0.5, 1]],\n",
        "    size=num_samples_per_class)\n",
        "positive_samples=np.random.multivariate_normal(\n",
        "    mean=[3, 0],\n",
        "    cov=[[1, 0.5],[0.5, 1]],\n",
        "    size=num_samples_per_class)"
      ]
    },
    {
      "cell_type": "markdown",
      "id": "fd6cdc81",
      "metadata": {
        "id": "fd6cdc81"
      },
      "source": [
        "### Stacking the two classes into an array with shape (2000, 2)"
      ]
    },
    {
      "cell_type": "code",
      "execution_count": 21,
      "id": "0a0777f8",
      "metadata": {
        "colab": {
          "base_uri": "https://localhost:8080/"
        },
        "id": "0a0777f8",
        "outputId": "d5a9d6a9-d765-41b0-ddb4-3ac7b83041f5"
      },
      "outputs": [
        {
          "output_type": "execute_result",
          "data": {
            "text/plain": [
              "array([[-0.8831018 ,  2.3120646 ],\n",
              "       [ 2.0280714 ,  4.946315  ],\n",
              "       [-0.16921633,  1.98035   ],\n",
              "       ...,\n",
              "       [ 3.1921997 , -0.537912  ],\n",
              "       [ 2.760876  ,  1.5390552 ],\n",
              "       [ 2.6653814 ,  0.8881891 ]], dtype=float32)"
            ]
          },
          "metadata": {},
          "execution_count": 21
        }
      ],
      "source": [
        "inputs = np.vstack((negative_samples, positive_samples)).astype(np.float32)\n",
        "inputs"
      ]
    },
    {
      "cell_type": "markdown",
      "id": "28b455e4",
      "metadata": {
        "id": "28b455e4"
      },
      "source": [
        "## 3.15 Generating the corresponding targets (0 and 1)"
      ]
    },
    {
      "cell_type": "code",
      "execution_count": 22,
      "id": "ed74c71d",
      "metadata": {
        "colab": {
          "base_uri": "https://localhost:8080/"
        },
        "id": "ed74c71d",
        "outputId": "b28dd81f-b25e-4784-fe1d-2ee946fdf2fb"
      },
      "outputs": [
        {
          "output_type": "execute_result",
          "data": {
            "text/plain": [
              "array([[0.],\n",
              "       [0.],\n",
              "       [0.],\n",
              "       ...,\n",
              "       [1.],\n",
              "       [1.],\n",
              "       [1.]], dtype=float32)"
            ]
          },
          "metadata": {},
          "execution_count": 22
        }
      ],
      "source": [
        "targets = np.vstack((np.zeros((num_samples_per_class, 1), dtype=\"float32\"),\n",
        "                     np.ones((num_samples_per_class, 1), dtype=\"float32\")))\n",
        "targets"
      ]
    },
    {
      "cell_type": "markdown",
      "id": "677cc36c",
      "metadata": {
        "id": "677cc36c"
      },
      "source": [
        "## 3.16 Plotting the two point classes"
      ]
    },
    {
      "cell_type": "code",
      "execution_count": 23,
      "id": "1d568e12",
      "metadata": {
        "colab": {
          "base_uri": "https://localhost:8080/",
          "height": 265
        },
        "id": "1d568e12",
        "outputId": "4064a62f-c75a-4efd-9d89-de089d6c1417"
      },
      "outputs": [
        {
          "output_type": "display_data",
          "data": {
            "text/plain": [
              "<Figure size 432x288 with 1 Axes>"
            ],
            "image/png": "[encoded data removed]"
          },
          "metadata": {
            "needs_background": "light"
          }
        }
      ],
      "source": [
        "import matplotlib.pyplot as plt\n",
        "plt.scatter(inputs[:, 0], inputs[:, 1], c=targets[:, 0])\n",
        "plt.show()"
      ]
    },
    {
      "cell_type": "markdown",
      "id": "16b3389c",
      "metadata": {
        "id": "16b3389c"
      },
      "source": [
        "## 3.17 Creating the linear classifi er variables"
      ]
    },
    {
      "cell_type": "code",
      "execution_count": 24,
      "id": "1144a84c",
      "metadata": {
        "id": "1144a84c"
      },
      "outputs": [],
      "source": [
        "input_dim = 2\n",
        "output_dim = 1\n",
        "W = tf.Variable(initial_value=tf.random.uniform(shape=(input_dim, output_dim)))\n",
        "b = tf.Variable(initial_value=tf.zeros(shape=(output_dim,)))"
      ]
    },
    {
      "cell_type": "markdown",
      "id": "29c1b78c",
      "metadata": {
        "id": "29c1b78c"
      },
      "source": [
        "## 3.18 The forward pass function 向前傳遞函數"
      ]
    },
    {
      "cell_type": "code",
      "execution_count": 25,
      "id": "50e8c1cc",
      "metadata": {
        "id": "50e8c1cc"
      },
      "outputs": [],
      "source": [
        "def model(inputs):\n",
        "    return tf.matmul(inputs, W) + b"
      ]
    },
    {
      "cell_type": "markdown",
      "id": "6ea05233",
      "metadata": {
        "id": "6ea05233"
      },
      "source": [
        "## 3.19 The mean squared error loss function"
      ]
    },
    {
      "cell_type": "code",
      "execution_count": 26,
      "id": "bd7000dc",
      "metadata": {
        "id": "bd7000dc"
      },
      "outputs": [],
      "source": [
        "def square_loss(targets, predictions):\n",
        "    per_sample_losses = tf.square(targets - predictions)\n",
        "    return tf.reduce_mean(per_sample_losses)"
      ]
    },
    {
      "cell_type": "markdown",
      "id": "f60e7090",
      "metadata": {
        "id": "f60e7090"
      },
      "source": [
        "## 3.20 The training step function"
      ]
    },
    {
      "cell_type": "code",
      "execution_count": 27,
      "id": "037e7ddc",
      "metadata": {
        "id": "037e7ddc"
      },
      "outputs": [],
      "source": [
        "learning_rate = 0.1\n",
        "\n",
        "def training_step(inputs, targets):\n",
        "    with tf.GradientTape() as tape:\n",
        "        predictions = model(inputs)\n",
        "        loss = square_loss(targets, predictions)\n",
        "    grad_loss_wrt_W, grad_loss_wrt_b = tape.gradient(loss, [W, b])\n",
        "    W.assign_sub(grad_loss_wrt_W * learning_rate)\n",
        "    b.assign_sub(grad_loss_wrt_b * learning_rate)\n",
        "    return loss"
      ]
    },
    {
      "cell_type": "markdown",
      "id": "36129490",
      "metadata": {
        "id": "36129490"
      },
      "source": [
        "## 3.21 The batch training loop"
      ]
    },
    {
      "cell_type": "code",
      "execution_count": 28,
      "id": "adeda7c2",
      "metadata": {
        "colab": {
          "base_uri": "https://localhost:8080/"
        },
        "id": "adeda7c2",
        "outputId": "9540661f-59e9-4683-b4cf-ba6155f6973b"
      },
      "outputs": [
        {
          "output_type": "stream",
          "name": "stdout",
          "text": [
            "Loss at step 0: 4.8078\n",
            "Loss at step 1: 0.3304\n",
            "Loss at step 2: 0.1475\n",
            "Loss at step 3: 0.1157\n",
            "Loss at step 4: 0.1048\n",
            "Loss at step 5: 0.0974\n",
            "Loss at step 6: 0.0909\n",
            "Loss at step 7: 0.0851\n",
            "Loss at step 8: 0.0798\n",
            "Loss at step 9: 0.0750\n",
            "Loss at step 10: 0.0706\n",
            "Loss at step 11: 0.0666\n",
            "Loss at step 12: 0.0630\n",
            "Loss at step 13: 0.0596\n",
            "Loss at step 14: 0.0566\n",
            "Loss at step 15: 0.0538\n",
            "Loss at step 16: 0.0513\n",
            "Loss at step 17: 0.0490\n",
            "Loss at step 18: 0.0469\n",
            "Loss at step 19: 0.0450\n",
            "Loss at step 20: 0.0433\n",
            "Loss at step 21: 0.0417\n",
            "Loss at step 22: 0.0403\n",
            "Loss at step 23: 0.0390\n",
            "Loss at step 24: 0.0378\n",
            "Loss at step 25: 0.0367\n",
            "Loss at step 26: 0.0357\n",
            "Loss at step 27: 0.0348\n",
            "Loss at step 28: 0.0340\n",
            "Loss at step 29: 0.0332\n",
            "Loss at step 30: 0.0325\n",
            "Loss at step 31: 0.0319\n",
            "Loss at step 32: 0.0313\n",
            "Loss at step 33: 0.0308\n",
            "Loss at step 34: 0.0304\n",
            "Loss at step 35: 0.0299\n",
            "Loss at step 36: 0.0295\n",
            "Loss at step 37: 0.0292\n",
            "Loss at step 38: 0.0289\n",
            "Loss at step 39: 0.0286\n"
          ]
        }
      ],
      "source": [
        "for step in range(40):\n",
        "    loss = training_step(inputs, targets)\n",
        "    print(f\"Loss at step {step}: {loss:.4f}\")"
      ]
    },
    {
      "cell_type": "markdown",
      "id": "9053ecaf",
      "metadata": {
        "id": "9053ecaf"
      },
      "source": [
        "### Prediction Result"
      ]
    },
    {
      "cell_type": "code",
      "execution_count": 29,
      "id": "7fd08504",
      "metadata": {
        "scrolled": true,
        "colab": {
          "base_uri": "https://localhost:8080/",
          "height": 0
        },
        "id": "7fd08504",
        "outputId": "964f431a-3137-48c1-9d2c-fa3c647fe777"
      },
      "outputs": [
        {
          "output_type": "display_data",
          "data": {
            "text/plain": [
              "<Figure size 432x288 with 1 Axes>"
            ],
            "image/png": "[encoded data removed]"
          },
          "metadata": {
            "needs_background": "light"
          }
        }
      ],
      "source": [
        "predictions = model(inputs)\n",
        "plt.scatter(inputs[:, 0], inputs[:, 1], c=predictions[:, 0] > 0.5)\n",
        "plt.show()"
      ]
    },
    {
      "cell_type": "code",
      "execution_count": 30,
      "id": "d3a2ed56",
      "metadata": {
        "colab": {
          "base_uri": "https://localhost:8080/",
          "height": 0
        },
        "id": "d3a2ed56",
        "outputId": "850ab71c-a9e7-40c9-cb33-7c0489bbb024"
      },
      "outputs": [
        {
          "output_type": "execute_result",
          "data": {
            "text/plain": [
              "<matplotlib.collections.PathCollection at 0x7f2cd9e9ba10>"
            ]
          },
          "metadata": {},
          "execution_count": 30
        },
        {
          "output_type": "display_data",
          "data": {
            "text/plain": [
              "<Figure size 432x288 with 1 Axes>"
            ],
            "image/png": "[encoded data removed]"
          },
          "metadata": {
            "needs_background": "light"
          }
        }
      ],
      "source": [
        "x = np.linspace(-1, 4, 100)\n",
        "y = - W[0] /  W[1] * x + (0.5 - b) / W[1]\n",
        "plt.plot(x, y, \"-r\")\n",
        "plt.scatter(inputs[:, 0], inputs[:, 1], c=predictions[:, 0] > 0.5)"
      ]
    },
    {
      "cell_type": "markdown",
      "id": "6ba12a23",
      "metadata": {
        "id": "6ba12a23"
      },
      "source": [
        "## 3.22 A Dense layer implemented as a Layer subclass"
      ]
    },
    {
      "cell_type": "markdown",
      "source": [
        "建立 class 快速建立模型\n",
        "有別於之前的NaiveDense不必告訴它上一層輸入的size，它會利用build()方法接收到的第一個輸入形狀作為參數。"
      ],
      "metadata": {
        "id": "BRzFFPUTB1rk"
      },
      "id": "BRzFFPUTB1rk"
    },
    {
      "cell_type": "code",
      "execution_count": 31,
      "id": "0e8a105d",
      "metadata": {
        "id": "0e8a105d"
      },
      "outputs": [],
      "source": [
        "from tensorflow import keras\n",
        "\n",
        "class SimpleDense(keras.layers.Layer):\n",
        "\n",
        "    def __init__(self, units, activation=None):\n",
        "        super().__init__()\n",
        "        self.units = units\n",
        "        self.activation = activation\n",
        "\n",
        "    def build(self, input_shape):\n",
        "        input_dim = input_shape[-1]\n",
        "        self.W = self.add_weight(shape=(input_dim, self.units),\n",
        "                                 initializer=\"random_normal\")\n",
        "        self.b = self.add_weight(shape=(self.units,),\n",
        "                                 initializer=\"zeros\")\n",
        "\n",
        "    def call(self, inputs):\n",
        "        y = tf.matmul(inputs, self.W) + self.b\n",
        "        if self.activation is not None:\n",
        "            y = self.activation(y)\n",
        "        return y"
      ]
    },
    {
      "cell_type": "code",
      "execution_count": 32,
      "id": "2752b290",
      "metadata": {
        "colab": {
          "base_uri": "https://localhost:8080/"
        },
        "id": "2752b290",
        "outputId": "bc52a635-d720-45e6-e588-f4f68556ebd1"
      },
      "outputs": [
        {
          "output_type": "stream",
          "name": "stdout",
          "text": [
            "(2, 32)\n"
          ]
        }
      ],
      "source": [
        "my_dense = SimpleDense(units=32, activation=tf.nn.relu)\n",
        "input_tensor = tf.ones(shape=(2, 784))\n",
        "output_tensor = my_dense(input_tensor)\n",
        "print(output_tensor.shape)"
      ]
    },
    {
      "cell_type": "markdown",
      "source": [
        "建立模型架構"
      ],
      "metadata": {
        "id": "-A3y7t4nE31k"
      },
      "id": "-A3y7t4nE31k"
    },
    {
      "cell_type": "code",
      "execution_count": 35,
      "id": "1dff1d8b",
      "metadata": {
        "id": "1dff1d8b"
      },
      "outputs": [],
      "source": [
        "from tensorflow.keras import layers\n",
        "model = keras.Sequential([\n",
        "    SimpleDense(32, activation=\"relu\"),\n",
        "    SimpleDense(64, activation=\"relu\"),\n",
        "    SimpleDense(32, activation=\"relu\"),\n",
        "    SimpleDense(10, activation=\"softmax\")\n",
        "])\n",
        "#還需要決定優化器、損失函數、指標\n",
        "#優化器Optimizers:\n",
        "# SGD(with or without momentum)\n",
        "# RMSprop\n",
        "# Adam\n",
        "# Adagrad\n",
        "#損失函數\n",
        "# Losses:\n",
        "# CategoricalCrossentropy\n",
        "# SparseCategoricalCrossentropy\n",
        "# BinaryCrossentropy\n",
        "# MeanSquaredError\n",
        "# KLDivergence\n",
        "# CosineSimilarity\n",
        "#指標Metrics:\n",
        "# CategoricalAccuracy\n",
        "# SparseCategoricalAccuracy\n",
        "# BinaryAccuracy\n",
        "# AUC\n",
        "# Precision\n",
        "# Recall"
      ]
    },
    {
      "cell_type": "code",
      "execution_count": 36,
      "id": "8fecccca",
      "metadata": {
        "id": "8fecccca"
      },
      "outputs": [],
      "source": [
        "model = keras.Sequential([keras.layers.Dense(1)])\n",
        "model.compile(optimizer=\"rmsprop\",\n",
        "      loss=\"mean_squared_error\",\n",
        "      metrics=[\"accuracy\"])"
      ]
    },
    {
      "cell_type": "markdown",
      "source": [
        "Calling fit() with NumPy data"
      ],
      "metadata": {
        "id": "fLOHbRSIGfc6"
      },
      "id": "fLOHbRSIGfc6"
    },
    {
      "cell_type": "code",
      "execution_count": 37,
      "id": "9d3806d2",
      "metadata": {
        "colab": {
          "base_uri": "https://localhost:8080/"
        },
        "id": "9d3806d2",
        "outputId": "516b6c0e-5d0d-4ef8-9cf0-75b9fed1d2a0"
      },
      "outputs": [
        {
          "output_type": "stream",
          "name": "stdout",
          "text": [
            "Epoch 1/5\n",
            "16/16 [==============================] - 0s 2ms/step - loss: 4.0348 - accuracy: 0.5180\n",
            "Epoch 2/5\n",
            "16/16 [==============================] - 0s 2ms/step - loss: 3.7160 - accuracy: 0.5190\n",
            "Epoch 3/5\n",
            "16/16 [==============================] - 0s 1ms/step - loss: 3.4527 - accuracy: 0.5200\n",
            "Epoch 4/5\n",
            "16/16 [==============================] - 0s 2ms/step - loss: 3.2062 - accuracy: 0.5205\n",
            "Epoch 5/5\n",
            "16/16 [==============================] - 0s 2ms/step - loss: 2.9677 - accuracy: 0.5210\n"
          ]
        }
      ],
      "source": [
        "history = model.fit(\n",
        "    inputs,\n",
        "    targets,\n",
        "    epochs=5,\n",
        "    batch_size=128\n",
        ")"
      ]
    },
    {
      "cell_type": "markdown",
      "source": [
        "訓練紀錄"
      ],
      "metadata": {
        "id": "PEwgA8N1G1Fr"
      },
      "id": "PEwgA8N1G1Fr"
    },
    {
      "cell_type": "code",
      "source": [
        "history.history"
      ],
      "metadata": {
        "colab": {
          "base_uri": "https://localhost:8080/"
        },
        "id": "nQFhcn-VGMzq",
        "outputId": "5dae92e5-2219-4f82-8f11-d1b7910ccb10"
      },
      "id": "nQFhcn-VGMzq",
      "execution_count": 38,
      "outputs": [
        {
          "output_type": "execute_result",
          "data": {
            "text/plain": [
              "{'loss': [4.034811019897461,\n",
              "  3.715977191925049,\n",
              "  3.452746629714966,\n",
              "  3.206162929534912,\n",
              "  2.9676883220672607],\n",
              " 'accuracy': [0.5180000066757202,\n",
              "  0.5189999938011169,\n",
              "  0.5199999809265137,\n",
              "  0.5205000042915344,\n",
              "  0.5210000276565552]}"
            ]
          },
          "metadata": {},
          "execution_count": 38
        }
      ]
    },
    {
      "cell_type": "markdown",
      "source": [
        "Using the validation_data argument"
      ],
      "metadata": {
        "id": "kioCymmBHLLz"
      },
      "id": "kioCymmBHLLz"
    },
    {
      "cell_type": "code",
      "source": [
        "model = keras.Sequential([keras.layers.Dense(1)])\n",
        "model.compile(optimizer=keras.optimizers.RMSprop(learning_rate=0.1),\n",
        "              loss=keras.losses.MeanSquaredError(),\n",
        "              metrics=[keras.metrics.BinaryAccuracy()])\n",
        "\n",
        "indices_permutation = np.random.permutation(len(inputs))\n",
        "shuffled_inputs = inputs[indices_permutation]\n",
        "shuffled_targets = targets[indices_permutation]\n",
        "\n",
        "num_validation_samples = int(0.3 * len(inputs))\n",
        "val_inputs = shuffled_inputs[:num_validation_samples]\n",
        "val_targets = shuffled_targets[:num_validation_samples]\n",
        "training_inputs = shuffled_inputs[num_validation_samples:]\n",
        "training_targets = shuffled_targets[num_validation_samples:]\n",
        "model.fit(\n",
        "    training_inputs,\n",
        "    training_targets,\n",
        "    epochs=5,\n",
        "    batch_size=16,\n",
        "    validation_data=(val_inputs, val_targets)\n",
        ")"
      ],
      "metadata": {
        "colab": {
          "base_uri": "https://localhost:8080/"
        },
        "id": "ICLyEMlzGM24",
        "outputId": "35f81fbc-f37c-45c3-c97b-5fb3b6f01f58"
      },
      "id": "ICLyEMlzGM24",
      "execution_count": 39,
      "outputs": [
        {
          "output_type": "stream",
          "name": "stdout",
          "text": [
            "Epoch 1/5\n",
            "88/88 [==============================] - 1s 5ms/step - loss: 0.3626 - binary_accuracy: 0.9514 - val_loss: 0.0590 - val_binary_accuracy: 0.9917\n",
            "Epoch 2/5\n",
            "88/88 [==============================] - 0s 4ms/step - loss: 0.0754 - binary_accuracy: 0.9529 - val_loss: 0.0839 - val_binary_accuracy: 0.9750\n",
            "Epoch 3/5\n",
            "88/88 [==============================] - 0s 4ms/step - loss: 0.0748 - binary_accuracy: 0.9593 - val_loss: 0.0263 - val_binary_accuracy: 1.0000\n",
            "Epoch 4/5\n",
            "88/88 [==============================] - 1s 6ms/step - loss: 0.0698 - binary_accuracy: 0.9600 - val_loss: 0.0271 - val_binary_accuracy: 1.0000\n",
            "Epoch 5/5\n",
            "88/88 [==============================] - 0s 5ms/step - loss: 0.0747 - binary_accuracy: 0.9514 - val_loss: 0.0445 - val_binary_accuracy: 0.9967\n"
          ]
        },
        {
          "output_type": "execute_result",
          "data": {
            "text/plain": [
              "<keras.callbacks.History at 0x7f2cd6b28490>"
            ]
          },
          "metadata": {},
          "execution_count": 39
        }
      ]
    },
    {
      "cell_type": "markdown",
      "source": [
        "The predict after training"
      ],
      "metadata": {
        "id": "F_8fIuliHc25"
      },
      "id": "F_8fIuliHc25"
    },
    {
      "cell_type": "code",
      "source": [
        "predictions = model.predict(val_inputs, batch_size=128)\n",
        "print(predictions[:10])"
      ],
      "metadata": {
        "colab": {
          "base_uri": "https://localhost:8080/"
        },
        "id": "igz0QZHfGM9F",
        "outputId": "687fd8c1-54ef-480b-a03d-6e71745d1eb8"
      },
      "id": "igz0QZHfGM9F",
      "execution_count": 41,
      "outputs": [
        {
          "output_type": "stream",
          "name": "stdout",
          "text": [
            "[[0.07110575]\n",
            " [0.15640005]\n",
            " [0.9076681 ]\n",
            " [0.93062794]\n",
            " [0.9068141 ]\n",
            " [1.0279984 ]\n",
            " [0.38128108]\n",
            " [0.7787991 ]\n",
            " [0.84713924]\n",
            " [0.01774287]]\n"
          ]
        }
      ]
    },
    {
      "cell_type": "code",
      "source": [],
      "metadata": {
        "id": "MiWBppGbGNAb"
      },
      "id": "MiWBppGbGNAb",
      "execution_count": null,
      "outputs": []
    }
  ],
  "metadata": {
    "kernelspec": {
      "display_name": "Python 3 (ipykernel)",
      "language": "python",
      "name": "python3"
    },
    "language_info": {
      "codemirror_mode": {
        "name": "ipython",
        "version": 3
      },
      "file_extension": ".py",
      "mimetype": "text/x-python",
      "name": "python",
      "nbconvert_exporter": "python",
      "pygments_lexer": "ipython3",
      "version": "3.8.8"
    },
    "toc": {
      "base_numbering": 1,
      "nav_menu": {},
      "number_sections": true,
      "sideBar": true,
      "skip_h1_title": false,
      "title_cell": "Table of Contents",
      "title_sidebar": "Contents",
      "toc_cell": false,
      "toc_position": {},
      "toc_section_display": true,
      "toc_window_display": false
    },
    "colab": {
      "provenance": [],
      "collapsed_sections": [
        "fd6cdc81",
        "9053ecaf"
      ]
    }
  },
  "nbformat": 4,
  "nbformat_minor": 5
}